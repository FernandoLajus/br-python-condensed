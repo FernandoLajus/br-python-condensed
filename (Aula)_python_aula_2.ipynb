{
  "nbformat": 4,
  "nbformat_minor": 0,
  "metadata": {
    "colab": {
      "name": "(Aula) python-aula-2.ipynb",
      "provenance": [],
      "collapsed_sections": [],
      "include_colab_link": true
    },
    "kernelspec": {
      "name": "python3",
      "display_name": "Python 3"
    }
  },
  "cells": [
    {
      "cell_type": "markdown",
      "metadata": {
        "id": "view-in-github",
        "colab_type": "text"
      },
      "source": [
        "<a href=\"https://colab.research.google.com/github/FernandoLajus/br-python-condensed/blob/main/(Aula)_python_aula_2.ipynb\" target=\"_parent\"><img src=\"https://colab.research.google.com/assets/colab-badge.svg\" alt=\"Open In Colab\"/></a>"
      ]
    },
    {
      "cell_type": "markdown",
      "metadata": {
        "id": "Si5ub8Y0pUZm"
      },
      "source": [
        "<img src=\"https://i.imgur.com/JsMvGnP.pngwidth\" height=\"30\">  \n",
        "<p style=\"color: #2e6c80; text-align: center;\"><strong>Aula complementar de Python - Fazendo uma pesquisa numa acedemia\n",
        "</strong></p>"
      ]
    },
    {
      "cell_type": "markdown",
      "metadata": {
        "id": "pCB3QepchLAp"
      },
      "source": [
        "**Exercício 2:** Adicione na função **calcula_imc** a variável (nome) que pede ao usuário a inclusão de seu nome para, posteriormente, constar no **return** da função.\n"
      ]
    },
    {
      "cell_type": "code",
      "metadata": {
        "id": "-Q5ATnCmhFmc"
      },
      "source": [
        "def calcula_imc():\n",
        "  nome = input(\"Qual é o seu nome?\")\n",
        "  altura = input(\"Qual é sua altura em metros? (utilize pontos. Ex.: 1.76\")\n",
        "  peso = input(\"Qual é seu peso em quilos? (utilize pontos. Ex.: 99.7\")\n",
        "  imc = float(peso)/float(altura)**2\n",
        "  imc_arredondado = round(imc,2)\n",
        "  print(f\"Olá {nome}, seu IMC é de {imc_arredondado}\")"
      ],
      "execution_count": null,
      "outputs": []
    },
    {
      "cell_type": "code",
      "metadata": {
        "colab": {
          "base_uri": "https://localhost:8080/"
        },
        "id": "T-ZVbMBBhGX-",
        "outputId": "0545017e-4571-4477-ca18-a5861d8da26c"
      },
      "source": [
        "calcula_imc()"
      ],
      "execution_count": null,
      "outputs": [
        {
          "output_type": "stream",
          "text": [
            "Qual é o seu nome?Vinicius\n",
            "Qual é sua altura em metros? (utilize pontos. Ex.: 1.761.88\n",
            "Qual é seu peso em quilos? (utilize pontos. Ex.: 99.787\n",
            "Olá Vinicius, seu IMC é de 24.62\n"
          ],
          "name": "stdout"
        }
      ]
    },
    {
      "cell_type": "markdown",
      "metadata": {
        "id": "SJcSNU0EIDkI"
      },
      "source": [
        "**Tipos de dados - Booleans**"
      ]
    },
    {
      "cell_type": "code",
      "metadata": {
        "id": "iKpAMWcIHRIJ",
        "colab": {
          "base_uri": "https://localhost:8080/"
        },
        "outputId": "d33e4178-41ca-4743-f565-3cd74dc67a19"
      },
      "source": [
        "type(10 > 20)"
      ],
      "execution_count": null,
      "outputs": [
        {
          "output_type": "execute_result",
          "data": {
            "text/plain": [
              "bool"
            ]
          },
          "metadata": {
            "tags": []
          },
          "execution_count": 5
        }
      ]
    },
    {
      "cell_type": "code",
      "metadata": {
        "id": "JKHlO_38MkUv",
        "colab": {
          "base_uri": "https://localhost:8080/"
        },
        "outputId": "ef8054f6-80c9-42a8-8aa4-0122621b7858"
      },
      "source": [
        "10 >= 9"
      ],
      "execution_count": null,
      "outputs": [
        {
          "output_type": "execute_result",
          "data": {
            "text/plain": [
              "True"
            ]
          },
          "metadata": {
            "tags": []
          },
          "execution_count": 6
        }
      ]
    },
    {
      "cell_type": "code",
      "metadata": {
        "colab": {
          "base_uri": "https://localhost:8080/"
        },
        "id": "4wENnbIfmybl",
        "outputId": "1a09edfc-e86a-4d4b-a88e-73400dea5775"
      },
      "source": [
        "10 == \"10\""
      ],
      "execution_count": null,
      "outputs": [
        {
          "output_type": "execute_result",
          "data": {
            "text/plain": [
              "False"
            ]
          },
          "metadata": {
            "tags": []
          },
          "execution_count": 7
        }
      ]
    },
    {
      "cell_type": "code",
      "metadata": {
        "colab": {
          "base_uri": "https://localhost:8080/"
        },
        "id": "zBN7nDrtmyzD",
        "outputId": "675e3c90-5cad-403a-ddbb-71a1bc66dd53"
      },
      "source": [
        "10 != \"10\""
      ],
      "execution_count": null,
      "outputs": [
        {
          "output_type": "execute_result",
          "data": {
            "text/plain": [
              "True"
            ]
          },
          "metadata": {
            "tags": []
          },
          "execution_count": 8
        }
      ]
    },
    {
      "cell_type": "code",
      "metadata": {
        "id": "0tjvWXRnnCjF"
      },
      "source": [
        ""
      ],
      "execution_count": null,
      "outputs": []
    },
    {
      "cell_type": "markdown",
      "metadata": {
        "id": "C5qhtX4jNqtO"
      },
      "source": [
        "**If, Else, Elif**\n"
      ]
    },
    {
      "cell_type": "code",
      "metadata": {
        "id": "1cZV8jIIIxi5"
      },
      "source": [
        "x = 10\n",
        "y = \"20\" "
      ],
      "execution_count": null,
      "outputs": []
    },
    {
      "cell_type": "code",
      "metadata": {
        "id": "vl8HDu9422wV",
        "colab": {
          "base_uri": "https://localhost:8080/"
        },
        "outputId": "42871301-1304-41f4-da48-7dab80a6ba08"
      },
      "source": [
        "if x == y:\n",
        "  print(\"x é igual a y\")\n",
        "elif type(x) == type(y):\n",
        "  print(\"os dados são do mesmo tipo\")\n",
        "else:\n",
        "  print(\"x é diferente de y\")"
      ],
      "execution_count": null,
      "outputs": [
        {
          "output_type": "stream",
          "text": [
            "x é diferente de y\n"
          ],
          "name": "stdout"
        }
      ]
    },
    {
      "cell_type": "code",
      "metadata": {
        "id": "USsqDYnWnTRL"
      },
      "source": [
        "verdade = True"
      ],
      "execution_count": null,
      "outputs": []
    },
    {
      "cell_type": "code",
      "metadata": {
        "colab": {
          "base_uri": "https://localhost:8080/"
        },
        "id": "oxy6cjsUnTdL",
        "outputId": "05ecfeaf-f705-44f3-c9fa-adad2e1e3439"
      },
      "source": [
        "if verdade:\n",
        "  print(\"verdade verdadeira\")"
      ],
      "execution_count": null,
      "outputs": [
        {
          "output_type": "stream",
          "text": [
            "verdade verdadeira\n"
          ],
          "name": "stdout"
        }
      ]
    },
    {
      "cell_type": "code",
      "metadata": {
        "id": "VF9fTXtMnTnT"
      },
      "source": [
        ""
      ],
      "execution_count": null,
      "outputs": []
    },
    {
      "cell_type": "markdown",
      "metadata": {
        "id": "Jiosiu_yIz0M"
      },
      "source": [
        "**Exercício 1:** crie uma função que retorne uma mensagem que informa se os dois argumentos são iguais ou diferentes.\n",
        "\n",
        "\n"
      ]
    },
    {
      "cell_type": "code",
      "metadata": {
        "id": "wH5C7xThJ8tx"
      },
      "source": [
        "def igual_diferente(a,b):\n",
        "  if a == b:\n",
        "    return \"os argumentos são iguais\"\n",
        "  else:\n",
        "    return \"os argumentos são diferentes\""
      ],
      "execution_count": null,
      "outputs": []
    },
    {
      "cell_type": "code",
      "metadata": {
        "id": "OrENh2GcZJka",
        "colab": {
          "base_uri": "https://localhost:8080/",
          "height": 35
        },
        "outputId": "306dc7ba-74f8-477e-c873-b792d31fea50"
      },
      "source": [
        "igual_diferente(10,\"10\")"
      ],
      "execution_count": null,
      "outputs": [
        {
          "output_type": "execute_result",
          "data": {
            "application/vnd.google.colaboratory.intrinsic+json": {
              "type": "string"
            },
            "text/plain": [
              "'os argumentos são diferentes'"
            ]
          },
          "metadata": {
            "tags": []
          },
          "execution_count": 25
        }
      ]
    },
    {
      "cell_type": "markdown",
      "metadata": {
        "id": "R2OtP3KGKTLQ"
      },
      "source": [
        "Mais de uma condição (usar parentes):"
      ]
    },
    {
      "cell_type": "code",
      "metadata": {
        "id": "9cLcI9gdKR9q",
        "colab": {
          "base_uri": "https://localhost:8080/"
        },
        "outputId": "3b36d255-15ac-4574-cf94-f47a2344c39f"
      },
      "source": [
        "if (10 > 20) and (type(10)==int):\n",
        "  print(\"certo\")\n",
        "else:\n",
        "  print(\"errado\")"
      ],
      "execution_count": null,
      "outputs": [
        {
          "output_type": "stream",
          "text": [
            "errado\n"
          ],
          "name": "stdout"
        }
      ]
    },
    {
      "cell_type": "markdown",
      "metadata": {
        "id": "xiRgSER1ZO-H"
      },
      "source": [
        "Uma ou outra condição:\n"
      ]
    },
    {
      "cell_type": "code",
      "metadata": {
        "id": "8tC8LwTbg2Gh",
        "colab": {
          "base_uri": "https://localhost:8080/"
        },
        "outputId": "9f8330ff-82a7-43b3-b4bc-1ba65f12421a"
      },
      "source": [
        "if (10 > 20) or (type(10)==int):\n",
        "  print(\"certo\")\n",
        "else:\n",
        "  print(\"errado\")"
      ],
      "execution_count": null,
      "outputs": [
        {
          "output_type": "stream",
          "text": [
            "certo\n"
          ],
          "name": "stdout"
        }
      ]
    },
    {
      "cell_type": "markdown",
      "metadata": {
        "id": "X7J1ZPSag3BZ"
      },
      "source": [
        "Exercício - Adicione um input que peça o nome do usuário e um código que retornará uma mensagem de aviso caso a pessoa esteja com o IMC acima de 25.\n",
        "Retorne isso no format() da função."
      ]
    },
    {
      "cell_type": "code",
      "metadata": {
        "id": "zAnJ1hT5ZQLB"
      },
      "source": [
        "def calcula_imc():\n",
        "  nome = input('Qual o seu nome?')\n",
        "  peso =  input('Qual o seu peso em quilos (utilize ponto, ex: 52.4)')\n",
        "  altura = input('Qual a sua altura em metros (utilize ponto, ex: 1.74)')\n",
        "  imc = float(peso)/float(altura)**2\n",
        "  imc_arredondado = round(imc,2)\n",
        "  if imc_arredondado > 25:\n",
        "    print(f\"Olá {nome}, seu IMC é de {imc_arredondado}. Considere a realização de exercícios regulares\")\n",
        "  else:\n",
        "    print(f\"Olá {nome}, seu IMC é de {imc_arredondado}. Está na faixa recomendada\")"
      ],
      "execution_count": null,
      "outputs": []
    },
    {
      "cell_type": "code",
      "metadata": {
        "colab": {
          "base_uri": "https://localhost:8080/"
        },
        "id": "7XT1ntw2s89d",
        "outputId": "2d747aac-4e60-4319-e487-fbc17de09275"
      },
      "source": [
        "calcula_imc()"
      ],
      "execution_count": null,
      "outputs": [
        {
          "output_type": "stream",
          "text": [
            "Qual o seu nome?João\n",
            "Qual o seu peso em quilos (utilize ponto, ex: 52.4)50\n",
            "Qual a sua altura em metros (utilize ponto, ex: 1.74)1.67\n",
            "Olá João, seu IMC é de 17.93. Está na faixa recomendada\n"
          ],
          "name": "stdout"
        }
      ]
    },
    {
      "cell_type": "markdown",
      "metadata": {
        "id": "PhIEZVitGjkJ"
      },
      "source": [
        "Supondo que você seja o dono de uma academia de ginástica e queira fazer uma pesquisa com seus clientes para poder indicar treinamentos mais adequeados, você precisaria coletar informações, organizá-las e criar uma saída que envie mensagens ou e-mails para os alunos com a informação já processada."
      ]
    },
    {
      "cell_type": "markdown",
      "metadata": {
        "id": "V2iGqkTyzI7q"
      },
      "source": [
        "**Listas**"
      ]
    },
    {
      "cell_type": "code",
      "metadata": {
        "id": "4-VoEJIop8Ea"
      },
      "source": [
        "minha_lista = [56,45,1.6666,\"Casa\",\"Bola\"]"
      ],
      "execution_count": null,
      "outputs": []
    },
    {
      "cell_type": "code",
      "metadata": {
        "id": "iZK346jz5eIk",
        "colab": {
          "base_uri": "https://localhost:8080/"
        },
        "outputId": "d217cb92-a290-4fa9-f578-10a914b8f7f0"
      },
      "source": [
        "type(minha_lista)"
      ],
      "execution_count": null,
      "outputs": [
        {
          "output_type": "execute_result",
          "data": {
            "text/plain": [
              "list"
            ]
          },
          "metadata": {
            "tags": []
          },
          "execution_count": 40
        }
      ]
    },
    {
      "cell_type": "markdown",
      "metadata": {
        "id": "Dqn-iPU4pzzQ"
      },
      "source": [
        "**Chamando itens em uma lista**"
      ]
    },
    {
      "cell_type": "code",
      "metadata": {
        "id": "qOgzYVMK1h-l",
        "colab": {
          "base_uri": "https://localhost:8080/",
          "height": 35
        },
        "outputId": "1c8474e9-0416-4e84-edad-fa784380c81a"
      },
      "source": [
        "minha_lista[3]"
      ],
      "execution_count": null,
      "outputs": [
        {
          "output_type": "execute_result",
          "data": {
            "application/vnd.google.colaboratory.intrinsic+json": {
              "type": "string"
            },
            "text/plain": [
              "'Casa'"
            ]
          },
          "metadata": {
            "tags": []
          },
          "execution_count": 41
        }
      ]
    },
    {
      "cell_type": "markdown",
      "metadata": {
        "id": "Q1nJQ-DDKyyj"
      },
      "source": [
        "**Indexando pelo negativo**"
      ]
    },
    {
      "cell_type": "code",
      "metadata": {
        "id": "OLpOVPsqruj0",
        "colab": {
          "base_uri": "https://localhost:8080/",
          "height": 35
        },
        "outputId": "1d03d71b-c9f6-4332-af0a-587743b2fee2"
      },
      "source": [
        "minha_lista[-2]"
      ],
      "execution_count": null,
      "outputs": [
        {
          "output_type": "execute_result",
          "data": {
            "application/vnd.google.colaboratory.intrinsic+json": {
              "type": "string"
            },
            "text/plain": [
              "'Casa'"
            ]
          },
          "metadata": {
            "tags": []
          },
          "execution_count": 43
        }
      ]
    },
    {
      "cell_type": "markdown",
      "metadata": {
        "id": "CLoYbZV6weTy"
      },
      "source": [
        "**Modificando um item**"
      ]
    },
    {
      "cell_type": "code",
      "metadata": {
        "id": "b9TlB2y91TnB"
      },
      "source": [
        "minha_lista[2]=\"QUATRO\""
      ],
      "execution_count": null,
      "outputs": []
    },
    {
      "cell_type": "code",
      "metadata": {
        "colab": {
          "base_uri": "https://localhost:8080/"
        },
        "id": "rBh0ugAavKRP",
        "outputId": "19faf606-c1b8-4a30-b1e9-9f419891b76a"
      },
      "source": [
        "minha_lista"
      ],
      "execution_count": null,
      "outputs": [
        {
          "output_type": "execute_result",
          "data": {
            "text/plain": [
              "[56, 45, 'QUATRO', 'Casa', 'Bola']"
            ]
          },
          "metadata": {
            "tags": []
          },
          "execution_count": 46
        }
      ]
    },
    {
      "cell_type": "code",
      "metadata": {
        "colab": {
          "base_uri": "https://localhost:8080/"
        },
        "id": "Zy12YA1MvXBY",
        "outputId": "f3434405-1ef6-40fa-a81f-d56d26a74eeb"
      },
      "source": [
        "minha_lista[0:2]"
      ],
      "execution_count": null,
      "outputs": [
        {
          "output_type": "execute_result",
          "data": {
            "text/plain": [
              "[56, 45]"
            ]
          },
          "metadata": {
            "tags": []
          },
          "execution_count": 52
        }
      ]
    },
    {
      "cell_type": "markdown",
      "metadata": {
        "id": "ogTkO2iLLDV-"
      },
      "source": [
        "**append()**"
      ]
    },
    {
      "cell_type": "code",
      "metadata": {
        "id": "C_TMe9YvLCCg",
        "colab": {
          "base_uri": "https://localhost:8080/"
        },
        "outputId": "9e9f7020-6739-47fd-fec0-d8fd104240cb"
      },
      "source": [
        "minha_lista"
      ],
      "execution_count": null,
      "outputs": [
        {
          "output_type": "execute_result",
          "data": {
            "text/plain": [
              "[56, 45, 'QUATRO', 'Casa', 'Bola', 10, 'dez']"
            ]
          },
          "metadata": {
            "tags": []
          },
          "execution_count": 57
        }
      ]
    },
    {
      "cell_type": "code",
      "metadata": {
        "id": "2jYa225n6uTZ"
      },
      "source": [
        "minha_lista.append(\"dez\")"
      ],
      "execution_count": null,
      "outputs": []
    },
    {
      "cell_type": "markdown",
      "metadata": {
        "id": "-Vzti6CtsWzJ"
      },
      "source": [
        "**Uma lista dentro de uma lista? -** ***Nested List***"
      ]
    },
    {
      "cell_type": "code",
      "metadata": {
        "id": "0FEE99Nash1B"
      },
      "source": [
        "minha_lista.append([\"python\",105])"
      ],
      "execution_count": null,
      "outputs": []
    },
    {
      "cell_type": "code",
      "metadata": {
        "id": "zE2PLMnpuF-O",
        "colab": {
          "base_uri": "https://localhost:8080/"
        },
        "outputId": "10ecbbcb-9380-4a9b-8f67-429765f30c02"
      },
      "source": [
        "minha_lista"
      ],
      "execution_count": null,
      "outputs": [
        {
          "output_type": "execute_result",
          "data": {
            "text/plain": [
              "[56, 45, 'QUATRO', 'Casa', 'Bola', 10, 'dez', ['python', 105]]"
            ]
          },
          "metadata": {
            "tags": []
          },
          "execution_count": 59
        }
      ]
    },
    {
      "cell_type": "code",
      "metadata": {
        "id": "Me942Vxp8cq-",
        "colab": {
          "base_uri": "https://localhost:8080/",
          "height": 35
        },
        "outputId": "ddd5a799-adb2-4a7c-d31f-4821ef8af94a"
      },
      "source": [
        "minha_lista[-1][0]"
      ],
      "execution_count": null,
      "outputs": [
        {
          "output_type": "execute_result",
          "data": {
            "application/vnd.google.colaboratory.intrinsic+json": {
              "type": "string"
            },
            "text/plain": [
              "'python'"
            ]
          },
          "metadata": {
            "tags": []
          },
          "execution_count": 61
        }
      ]
    },
    {
      "cell_type": "markdown",
      "metadata": {
        "id": "foMXSj9iLMZB"
      },
      "source": [
        "**Encontrando item na lista dentro da lista**"
      ]
    },
    {
      "cell_type": "code",
      "metadata": {
        "id": "e9ohEzc82qvj"
      },
      "source": [
        ""
      ],
      "execution_count": null,
      "outputs": []
    },
    {
      "cell_type": "markdown",
      "metadata": {
        "id": "EuDOZEWePVUD"
      },
      "source": [
        "**Exercício 2 - Da lista dada:**\n",
        "- Substitua o segundo item por \"Casa\"\n",
        "- adicione o item 45.9 ao fim da lista"
      ]
    },
    {
      "cell_type": "code",
      "metadata": {
        "id": "R3_YHRQAPq2h"
      },
      "source": [
        "minha_lista[1]=\"casa\"\n",
        "minha_lista.append(45.8)"
      ],
      "execution_count": null,
      "outputs": []
    },
    {
      "cell_type": "code",
      "metadata": {
        "id": "tqKACZRt-BjP",
        "colab": {
          "base_uri": "https://localhost:8080/"
        },
        "outputId": "80a93644-8dfc-4aa4-ca15-c07cbf9a447b"
      },
      "source": [
        "minha_lista"
      ],
      "execution_count": null,
      "outputs": [
        {
          "output_type": "execute_result",
          "data": {
            "text/plain": [
              "[56, 'casa', 'QUATRO', 'Casa', 'Bola', 10, 'dez', ['python', 105], 45.8]"
            ]
          },
          "metadata": {
            "tags": []
          },
          "execution_count": 63
        }
      ]
    },
    {
      "cell_type": "code",
      "metadata": {
        "id": "4bbcwUpdxvnj"
      },
      "source": [
        "minha_lista[-2].append(210)"
      ],
      "execution_count": null,
      "outputs": []
    },
    {
      "cell_type": "code",
      "metadata": {
        "colab": {
          "base_uri": "https://localhost:8080/"
        },
        "id": "lpnqEKy9x6wC",
        "outputId": "dee0f4fa-c633-4b19-dc46-13b6d5254e4c"
      },
      "source": [
        "minha_lista"
      ],
      "execution_count": null,
      "outputs": [
        {
          "output_type": "execute_result",
          "data": {
            "text/plain": [
              "[56, 'casa', 'QUATRO', 'Casa', 'Bola', 10, 'dez', ['0', 105, 210], 45.8]"
            ]
          },
          "metadata": {
            "tags": []
          },
          "execution_count": 69
        }
      ]
    },
    {
      "cell_type": "markdown",
      "metadata": {
        "id": "ZXG7qQ0wIGkH"
      },
      "source": [
        "**ITERANDO** \\\n",
        "**Loop** ***For***"
      ]
    },
    {
      "cell_type": "code",
      "metadata": {
        "id": "DEF15-97Nq-y",
        "colab": {
          "base_uri": "https://localhost:8080/"
        },
        "outputId": "a694ee6c-3ded-483c-9f16-ad36244cec3e"
      },
      "source": [
        "for i in minha_lista:\n",
        "  print(i, i)"
      ],
      "execution_count": null,
      "outputs": [
        {
          "output_type": "stream",
          "text": [
            "56 56\n",
            "casa casa\n",
            "QUATRO QUATRO\n",
            "Casa Casa\n",
            "Bola Bola\n",
            "10 10\n",
            "dez dez\n",
            "['0', 105, 210] ['0', 105, 210]\n",
            "45.8 45.8\n"
          ],
          "name": "stdout"
        }
      ]
    },
    {
      "cell_type": "markdown",
      "metadata": {
        "id": "SIRuvotgNvxx"
      },
      "source": [
        "**Exercício 3: Loop com format** \\\n",
        "Faça um loop sobre a lista que você criou utilizando a função format para dizer que cada um dos itens está na lista: \\\n",
        "Ex: 4 está na lista..."
      ]
    },
    {
      "cell_type": "code",
      "metadata": {
        "id": "Lg9zuSlFqtsy",
        "colab": {
          "base_uri": "https://localhost:8080/"
        },
        "outputId": "96a4b4e4-cfba-47ef-aa12-57f621d0d9e1"
      },
      "source": [
        "for elemento in minha_lista:\n",
        "  print(f\"{elemento} está na lista\")"
      ],
      "execution_count": null,
      "outputs": [
        {
          "output_type": "stream",
          "text": [
            "56 está na lista\n",
            "casa está na lista\n",
            "QUATRO está na lista\n",
            "Casa está na lista\n",
            "Bola está na lista\n",
            "10 está na lista\n",
            "dez está na lista\n",
            "['0', 105, 210] está na lista\n",
            "45.8 está na lista\n"
          ],
          "name": "stdout"
        }
      ]
    },
    {
      "cell_type": "markdown",
      "metadata": {
        "id": "gMRqgEIQJGTg"
      },
      "source": [
        "**Exemplo prático:** \\\n",
        "Coletando os dados da academia"
      ]
    },
    {
      "cell_type": "code",
      "metadata": {
        "id": "B-xhOqtoIxE3"
      },
      "source": [
        ""
      ],
      "execution_count": null,
      "outputs": []
    },
    {
      "cell_type": "code",
      "metadata": {
        "id": "95JJKn4qpC4j"
      },
      "source": [
        "lista_academia = [['Ulrich', 'M', 80, 1.92],['Claudia','F',62,1.56],\n",
        "               ['Mikkel','M',67,1.56],['Jonas','M',52,1.56],\n",
        "               ['Charlotte','F',52,1.56],['Martha','F',76,1.98]]"
      ],
      "execution_count": null,
      "outputs": []
    },
    {
      "cell_type": "code",
      "metadata": {
        "id": "ywqxhomFsXFD",
        "colab": {
          "base_uri": "https://localhost:8080/"
        },
        "outputId": "58f264fe-5683-4005-b95b-d171d8f51e73"
      },
      "source": [
        "lista_academia[1]"
      ],
      "execution_count": null,
      "outputs": [
        {
          "output_type": "execute_result",
          "data": {
            "text/plain": [
              "['Claudia', 'F', 62, 1.56]"
            ]
          },
          "metadata": {
            "tags": []
          },
          "execution_count": 75
        }
      ]
    },
    {
      "cell_type": "markdown",
      "metadata": {
        "id": "peY1aiw0Oxd7"
      },
      "source": [
        "**Iterando sobre nossa lista**"
      ]
    },
    {
      "cell_type": "code",
      "metadata": {
        "id": "rHZNhA7mOwlc",
        "colab": {
          "base_uri": "https://localhost:8080/"
        },
        "outputId": "b8681da2-4366-45f1-9fb9-c828ec8362ee"
      },
      "source": [
        "for i in lista_academia:\n",
        "  print(i[0],\":\",i[-1])\n",
        "  print(\"=\"*80)"
      ],
      "execution_count": null,
      "outputs": [
        {
          "output_type": "stream",
          "text": [
            "Ulrich : 1.92\n",
            "================================================================================\n",
            "Claudia : 1.56\n",
            "================================================================================\n",
            "Mikkel : 1.56\n",
            "================================================================================\n",
            "Jonas : 1.56\n",
            "================================================================================\n",
            "Charlotte : 1.56\n",
            "================================================================================\n",
            "Martha : 1.98\n",
            "================================================================================\n"
          ],
          "name": "stdout"
        }
      ]
    },
    {
      "cell_type": "markdown",
      "metadata": {
        "id": "JjjqcoPyJNE6"
      },
      "source": [
        "**Operações dentro das listas**"
      ]
    },
    {
      "cell_type": "code",
      "metadata": {
        "colab": {
          "base_uri": "https://localhost:8080/"
        },
        "id": "gyka_-xX0TUu",
        "outputId": "5379039b-d4e0-4d04-b4fb-4b7c2adb039e"
      },
      "source": [
        "lista_academia"
      ],
      "execution_count": null,
      "outputs": [
        {
          "output_type": "execute_result",
          "data": {
            "text/plain": [
              "[['Ulrich', 'M', 80, 1.92],\n",
              " ['Claudia', 'F', 62, 1.56],\n",
              " ['Mikkel', 'M', 67, 1.56],\n",
              " ['Jonas', 'M', 52, 1.56],\n",
              " ['Charlotte', 'F', 52, 1.56],\n",
              " ['Martha', 'F', 76, 1.98]]"
            ]
          },
          "metadata": {
            "tags": []
          },
          "execution_count": 79
        }
      ]
    },
    {
      "cell_type": "code",
      "metadata": {
        "id": "nSjNdFJc-UvQ"
      },
      "source": [
        "for i in lista_academia:\n",
        "  imc = i[2]/i[3]**2\n",
        "  imc_arr = round(imc,2)\n",
        "  i.append(imc_arr)\n",
        " "
      ],
      "execution_count": null,
      "outputs": []
    },
    {
      "cell_type": "code",
      "metadata": {
        "id": "Axxwlhib-7aS",
        "colab": {
          "base_uri": "https://localhost:8080/"
        },
        "outputId": "9fa12a2a-f40c-4426-a771-2476373a4847"
      },
      "source": [
        "lista_academia"
      ],
      "execution_count": null,
      "outputs": [
        {
          "output_type": "execute_result",
          "data": {
            "text/plain": [
              "[['Ulrich', 'M', 80, 1.92, 21.7],\n",
              " ['Claudia', 'F', 62, 1.56, 25.48],\n",
              " ['Mikkel', 'M', 67, 1.56, 27.53],\n",
              " ['Jonas', 'M', 52, 1.56, 21.37],\n",
              " ['Charlotte', 'F', 52, 1.56, 21.37],\n",
              " ['Martha', 'F', 76, 1.98, 19.39]]"
            ]
          },
          "metadata": {
            "tags": []
          },
          "execution_count": 81
        }
      ]
    },
    {
      "cell_type": "markdown",
      "metadata": {
        "id": "eHm0Bvsp3oT9"
      },
      "source": [
        "**E se eu quiser saber a altura da Charlotte?** \n",
        "\n"
      ]
    },
    {
      "cell_type": "code",
      "metadata": {
        "id": "JOlX3KLL3mvI"
      },
      "source": [
        ""
      ],
      "execution_count": null,
      "outputs": []
    },
    {
      "cell_type": "markdown",
      "metadata": {
        "id": "UW9uZONnyuPB"
      },
      "source": [
        "<img src=\"https://i0.wp.com/reconstruindohistorias.com/wp-content/uploads/m%C3%A3e-assustada.jpg?ssl=1\" width=\"170\"/>"
      ]
    },
    {
      "cell_type": "markdown",
      "metadata": {
        "id": "jym_u5UGKBtv"
      },
      "source": [
        "**Dicionários**"
      ]
    },
    {
      "cell_type": "code",
      "metadata": {
        "id": "Ygu6bBvKKAYA"
      },
      "source": [
        "meu_dicionario = {\"peso\":80,\"altura\":1.88}"
      ],
      "execution_count": null,
      "outputs": []
    },
    {
      "cell_type": "code",
      "metadata": {
        "id": "OCiUcaClKeQi",
        "colab": {
          "base_uri": "https://localhost:8080/"
        },
        "outputId": "6e5cbdeb-9fbb-4a5b-9430-f68c9f1f1377"
      },
      "source": [
        "meu_dicionario['peso']"
      ],
      "execution_count": null,
      "outputs": [
        {
          "output_type": "execute_result",
          "data": {
            "text/plain": [
              "80"
            ]
          },
          "metadata": {
            "tags": []
          },
          "execution_count": 83
        }
      ]
    },
    {
      "cell_type": "markdown",
      "metadata": {
        "id": "2UkfwOo5lV9z"
      },
      "source": [
        "**Dicionários dentro de dicionários**"
      ]
    },
    {
      "cell_type": "code",
      "metadata": {
        "id": "kbdKZi6_KiNK"
      },
      "source": [
        "dicionario = {\"Vinicius\":{\"peso\":88,\"altura\":1.88},\"Ulrich\":{\"peso\":90,\"altura\":2.10}}"
      ],
      "execution_count": null,
      "outputs": []
    },
    {
      "cell_type": "code",
      "metadata": {
        "id": "3c9tmUtbLEe9",
        "colab": {
          "base_uri": "https://localhost:8080/"
        },
        "outputId": "ad64ed47-d552-4b4e-f1d1-42adba5b74fc"
      },
      "source": [
        "dicionario['Ulrich']['altura']"
      ],
      "execution_count": null,
      "outputs": [
        {
          "output_type": "execute_result",
          "data": {
            "text/plain": [
              "2.1"
            ]
          },
          "metadata": {
            "tags": []
          },
          "execution_count": 86
        }
      ]
    },
    {
      "cell_type": "markdown",
      "metadata": {
        "id": "wXDtwLtWlbuM"
      },
      "source": [
        "**Adicionando itens a um dicionário**"
      ]
    },
    {
      "cell_type": "code",
      "metadata": {
        "id": "u5n7BlSMLLB9"
      },
      "source": [
        "dicionario[\"Vinicius\"]['email']=\"vinicius@vinicius.com\""
      ],
      "execution_count": null,
      "outputs": []
    },
    {
      "cell_type": "code",
      "metadata": {
        "id": "y3nSk3DODGgz",
        "colab": {
          "base_uri": "https://localhost:8080/"
        },
        "outputId": "1ff60cd7-3a6d-4749-baaa-001afbb8762e"
      },
      "source": [
        "dicionario"
      ],
      "execution_count": null,
      "outputs": [
        {
          "output_type": "execute_result",
          "data": {
            "text/plain": [
              "{'Ulrich': {'altura': 2.1, 'peso': 90},\n",
              " 'Vinicius': {'altura': 1.88, 'email': 'vinicius@vinicius.com', 'peso': 88}}"
            ]
          },
          "metadata": {
            "tags": []
          },
          "execution_count": 89
        }
      ]
    },
    {
      "cell_type": "code",
      "metadata": {
        "id": "cVWkFXSMF9cZ"
      },
      "source": [
        ""
      ],
      "execution_count": null,
      "outputs": []
    },
    {
      "cell_type": "code",
      "metadata": {
        "id": "4944KjzWk1CY"
      },
      "source": [
        ""
      ],
      "execution_count": null,
      "outputs": []
    },
    {
      "cell_type": "markdown",
      "metadata": {
        "id": "mll3_4A-KRZC"
      },
      "source": [
        "**Exercício 4:** \\\n",
        "Adicione mais um membro ao dicionário com peso e altura e atualize o dicionário com a altura da Martha"
      ]
    },
    {
      "cell_type": "code",
      "metadata": {
        "id": "ejGHJdqjK5kF"
      },
      "source": [
        "dicionario['Martha']={\"peso\":50,\"altura\":1.63}"
      ],
      "execution_count": null,
      "outputs": []
    },
    {
      "cell_type": "code",
      "metadata": {
        "id": "aj5zoNolLW0i",
        "colab": {
          "base_uri": "https://localhost:8080/"
        },
        "outputId": "539afa6f-f30c-41dd-878f-b637186f6200"
      },
      "source": [
        "dicionario"
      ],
      "execution_count": null,
      "outputs": [
        {
          "output_type": "execute_result",
          "data": {
            "text/plain": [
              "{'Martha': {'altura': 1.63, 'peso': 50},\n",
              " 'Ulrich': {'altura': 2.1, 'peso': 90},\n",
              " 'Vinicius': {'altura': 1.88, 'email': 'vinicius@vinicius.com', 'peso': 88}}"
            ]
          },
          "metadata": {
            "tags": []
          },
          "execution_count": 91
        }
      ]
    },
    {
      "cell_type": "code",
      "metadata": {
        "id": "1kbVbLdfMZP9"
      },
      "source": [
        ""
      ],
      "execution_count": null,
      "outputs": []
    },
    {
      "cell_type": "markdown",
      "metadata": {
        "id": "6sL0OQRPllF9"
      },
      "source": [
        "**O Grande Loop** \\\n",
        "Da lista ao dicionário"
      ]
    },
    {
      "cell_type": "code",
      "metadata": {
        "id": "7qi38zcWGcRF",
        "colab": {
          "base_uri": "https://localhost:8080/"
        },
        "outputId": "2a0b3aec-d8ee-472e-99b9-33b31294318a"
      },
      "source": [
        "lista_academia"
      ],
      "execution_count": null,
      "outputs": [
        {
          "output_type": "execute_result",
          "data": {
            "text/plain": [
              "[['Ulrich', 'M', 80, 1.92, 21.7],\n",
              " ['Claudia', 'F', 62, 1.56, 25.48],\n",
              " ['Mikkel', 'M', 67, 1.56, 27.53],\n",
              " ['Jonas', 'M', 52, 1.56, 21.37],\n",
              " ['Charlotte', 'F', 52, 1.56, 21.37],\n",
              " ['Martha', 'F', 76, 1.98, 19.39]]"
            ]
          },
          "metadata": {
            "tags": []
          },
          "execution_count": 92
        }
      ]
    },
    {
      "cell_type": "code",
      "metadata": {
        "id": "eqUOXmS6GziW"
      },
      "source": [
        "academia_dict = {}\n",
        "for aluno in lista_academia:\n",
        "  academia_dict[aluno[0]] = {}\n",
        "  academia_dict[aluno[0]]['sexo']= aluno[1]\n",
        "  academia_dict[aluno[0]]['peso']= aluno[2]\n",
        "  academia_dict[aluno[0]]['altura']= aluno[3]\n",
        "  academia_dict[aluno[0]]['imc']= aluno[4]"
      ],
      "execution_count": null,
      "outputs": []
    },
    {
      "cell_type": "code",
      "metadata": {
        "id": "id8_k__xFaPj",
        "colab": {
          "base_uri": "https://localhost:8080/"
        },
        "outputId": "9f270c12-2107-433c-d0a0-a52b007c9e55"
      },
      "source": [
        "academia_dict"
      ],
      "execution_count": null,
      "outputs": [
        {
          "output_type": "execute_result",
          "data": {
            "text/plain": [
              "{'Charlotte': {'altura': 1.56, 'imc': 21.37, 'peso': 52, 'sexo': 'F'},\n",
              " 'Claudia': {'altura': 1.56, 'imc': 25.48, 'peso': 62, 'sexo': 'F'},\n",
              " 'Jonas': {'altura': 1.56, 'imc': 21.37, 'peso': 52, 'sexo': 'M'},\n",
              " 'Martha': {'altura': 1.98, 'imc': 19.39, 'peso': 76, 'sexo': 'F'},\n",
              " 'Mikkel': {'altura': 1.56, 'imc': 27.53, 'peso': 67, 'sexo': 'M'},\n",
              " 'Ulrich': {'altura': 1.92, 'imc': 21.7, 'peso': 80, 'sexo': 'M'}}"
            ]
          },
          "metadata": {
            "tags": []
          },
          "execution_count": 106
        }
      ]
    },
    {
      "cell_type": "code",
      "metadata": {
        "id": "nscg_ZpMGMB9",
        "colab": {
          "base_uri": "https://localhost:8080/"
        },
        "outputId": "e54b1842-7dc2-4bc5-ec1c-77debac5ac74"
      },
      "source": [
        "academia_dict['Martha']['imc']"
      ],
      "execution_count": null,
      "outputs": [
        {
          "output_type": "execute_result",
          "data": {
            "text/plain": [
              "19.39"
            ]
          },
          "metadata": {
            "tags": []
          },
          "execution_count": 109
        }
      ]
    },
    {
      "cell_type": "markdown",
      "metadata": {
        "id": "5ISzRuZq9Qm-"
      },
      "source": [
        "**Loop + Condicionais**"
      ]
    },
    {
      "cell_type": "code",
      "metadata": {
        "id": "wa1h7AVfGr1I",
        "colab": {
          "base_uri": "https://localhost:8080/"
        },
        "outputId": "ff8dbf4b-863e-4bb8-b70d-66cabc5a7321"
      },
      "source": [
        ""
      ],
      "execution_count": null,
      "outputs": [
        {
          "output_type": "execute_result",
          "data": {
            "text/plain": [
              "dict_keys(['Ulrich', 'Claudia', 'Mikkel', 'Jonas', 'Charlotte', 'Martha'])"
            ]
          },
          "metadata": {
            "tags": []
          },
          "execution_count": 110
        }
      ]
    },
    {
      "cell_type": "code",
      "metadata": {
        "id": "sLPdwYs1rK8g"
      },
      "source": [
        ""
      ],
      "execution_count": null,
      "outputs": []
    },
    {
      "cell_type": "markdown",
      "metadata": {
        "id": "t2t_ZKNOxm7a"
      },
      "source": [
        "**Vendo as chaves do dicionário**"
      ]
    },
    {
      "cell_type": "code",
      "metadata": {
        "id": "e3AQs3SsuSfS",
        "colab": {
          "base_uri": "https://localhost:8080/"
        },
        "outputId": "4815c3e3-aa49-4f1f-993b-25db87d71cd8"
      },
      "source": [
        "academia_dict.keys()"
      ],
      "execution_count": null,
      "outputs": [
        {
          "output_type": "execute_result",
          "data": {
            "text/plain": [
              "dict_keys(['Ulrich', 'Claudia', 'Mikkel', 'Jonas', 'Charlotte', 'Martha'])"
            ]
          },
          "metadata": {
            "tags": []
          },
          "execution_count": 111
        }
      ]
    },
    {
      "cell_type": "code",
      "metadata": {
        "colab": {
          "base_uri": "https://localhost:8080/"
        },
        "id": "Omj4ReJN7npy",
        "outputId": "3c8de3b2-a713-4b47-d15c-767172baf059"
      },
      "source": [
        "academia_dict['Charlotte'][\"imc\"]"
      ],
      "execution_count": null,
      "outputs": [
        {
          "output_type": "execute_result",
          "data": {
            "text/plain": [
              "21.37"
            ]
          },
          "metadata": {
            "tags": []
          },
          "execution_count": 116
        }
      ]
    },
    {
      "cell_type": "code",
      "metadata": {
        "colab": {
          "base_uri": "https://localhost:8080/"
        },
        "id": "VodTIO7y7YhP",
        "outputId": "34c3c825-56ef-4e12-f05a-042aa99cdc58"
      },
      "source": [
        "for i in academia_dict.keys():\n",
        "  print(f\"Olá {i}, seu IMC é {academia_dict[i]['imc']}. Esteja preparado para novos treinos\")"
      ],
      "execution_count": null,
      "outputs": [
        {
          "output_type": "stream",
          "text": [
            "Olá Ulrich, seu IMC é 21.7. Esteja preparado para novos treinos\n",
            "Olá Claudia, seu IMC é 25.48. Esteja preparado para novos treinos\n",
            "Olá Mikkel, seu IMC é 27.53. Esteja preparado para novos treinos\n",
            "Olá Jonas, seu IMC é 21.37. Esteja preparado para novos treinos\n",
            "Olá Charlotte, seu IMC é 21.37. Esteja preparado para novos treinos\n",
            "Olá Martha, seu IMC é 19.39. Esteja preparado para novos treinos\n"
          ],
          "name": "stdout"
        }
      ]
    },
    {
      "cell_type": "code",
      "metadata": {
        "colab": {
          "base_uri": "https://localhost:8080/"
        },
        "id": "PvINeaqI8o8s",
        "outputId": "190f23d3-5611-4cc0-8f25-f492cb3809b9"
      },
      "source": [
        "for i in academia_dict.keys():\n",
        "  if academia_dict[i]['sexo']==\"M\":\n",
        "    print(f\"Olá {i}, seu IMC é {academia_dict[i]['imc']}. Esteja preparado para novos treinos\")\n",
        "  elif academia_dict[i]['sexo']==\"F\":\n",
        "    print(f\"Olá {i}, seu IMC é {academia_dict[i]['imc']}. Esteja preparada para novos treinos\")"
      ],
      "execution_count": null,
      "outputs": [
        {
          "output_type": "stream",
          "text": [
            "Olá Ulrich, seu IMC é 21.7. Esteja preparado para novos treinos\n",
            "Olá Claudia, seu IMC é 25.48. Esteja preparada para novos treinos\n",
            "Olá Mikkel, seu IMC é 27.53. Esteja preparado para novos treinos\n",
            "Olá Jonas, seu IMC é 21.37. Esteja preparado para novos treinos\n",
            "Olá Charlotte, seu IMC é 21.37. Esteja preparada para novos treinos\n",
            "Olá Martha, seu IMC é 19.39. Esteja preparada para novos treinos\n"
          ],
          "name": "stdout"
        }
      ]
    },
    {
      "cell_type": "markdown",
      "metadata": {
        "id": "6bRRXs1rnTRX"
      },
      "source": [
        "**Criando a mensagem padrão**"
      ]
    },
    {
      "cell_type": "code",
      "metadata": {
        "id": "VNbNU4o-mc9R"
      },
      "source": [
        "for i in academia_dict.keys():\n",
        "  print(i)"
      ],
      "execution_count": null,
      "outputs": []
    },
    {
      "cell_type": "markdown",
      "metadata": {
        "id": "iO3doKwea4Yn"
      },
      "source": [
        "**Exercício 5:**\n",
        "Cire uma mensagem padrão que agora que varie de acordo com os pronomes (feminino e masculino) e sobre o IMC (abaixo ou acima de 25). \\\n",
        "\n",
        "Ex:\\\n",
        "Olá Claudia. Gostaríamos de informar que seu IMC é 25.3! Esteja preparad**a** para novos treinos!\\\n",
        "Olá João. Gostaríamos de informar que seu IMC é 23! Seus treinos continuarão os mesmos!\n"
      ]
    },
    {
      "cell_type": "code",
      "metadata": {
        "id": "gma3ft8JnZQ3"
      },
      "source": [
        "\n"
      ],
      "execution_count": null,
      "outputs": []
    },
    {
      "cell_type": "markdown",
      "metadata": {
        "id": "WV2Y-d9S99x_"
      },
      "source": [
        "**Exercício**"
      ]
    },
    {
      "cell_type": "markdown",
      "metadata": {
        "id": "AZsuEB59-I8j"
      },
      "source": [
        "Abaixo temos uma lista de alunos de uma escola de música. Os elementos da lista estão na seguinte ordem: Nome, Instrumento, Nome do professor e dia da aula.\n",
        "Por uma motivo de força maior, todas as aulas da semana seguinte à que você está terão que ser canceladas. Sua tarefa consistirá em criar uma mensagem padronizada automaticamente que avise ao aluno que ele(a) não terá aula na próxima semana, como no exemplo: \"Olá Paulo, sua aula de bateria da próxima quarta-feira com o professor Thiago terá de ser cancelada por motivo de força maior. Lamentamos o ocorrido e entraremos em contato em breve.\""
      ]
    },
    {
      "cell_type": "code",
      "metadata": {
        "id": "HS2g4AU3-Hwr"
      },
      "source": [
        "lista_de_alunos = [['João','bateria','Paulo','quarta-feira'],['Maria','guitarra','Rubens','quinta-feira'],\n",
        "                   ['Carla','sanfona','Roger','segunda-feira'],['Raul','contrabaixo','Paula','terça-feira'],\n",
        "                   ['Carlos','bateira','Paulo','quarta-feira'],['Pedro','piano','Roberta','terça-feira'],\n",
        "                   ['Joana','bateria','José','quarta-feira'],['Fernanda','guitarra','Rubens','quinta-feira'],\n",
        "                   ['Tamara','sanfona','Roger','terça-feira'],['Tito','contrabaixo','Ronaldo','terça-feira'],\n",
        "                   ['Joseph','bateira','Paulo','quinta-feira'],['Robert','piano','Fernando','terça-feira']]"
      ],
      "execution_count": null,
      "outputs": []
    },
    {
      "cell_type": "code",
      "metadata": {
        "id": "XLkCCV-w-AMz"
      },
      "source": [
        ""
      ],
      "execution_count": null,
      "outputs": []
    },
    {
      "cell_type": "code",
      "metadata": {
        "id": "EmjPVfl8F62b"
      },
      "source": [
        ""
      ],
      "execution_count": null,
      "outputs": []
    },
    {
      "cell_type": "code",
      "metadata": {
        "id": "eGzC1gzs7a0a"
      },
      "source": [
        ""
      ],
      "execution_count": null,
      "outputs": []
    },
    {
      "cell_type": "code",
      "metadata": {
        "id": "b6TXw2qdGBOJ"
      },
      "source": [
        ""
      ],
      "execution_count": null,
      "outputs": []
    },
    {
      "cell_type": "code",
      "metadata": {
        "id": "Qx4LajBwGUeU"
      },
      "source": [
        ""
      ],
      "execution_count": null,
      "outputs": []
    }
  ]
}