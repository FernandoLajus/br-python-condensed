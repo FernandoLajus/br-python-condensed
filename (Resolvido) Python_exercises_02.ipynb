{
  "nbformat": 4,
  "nbformat_minor": 0,
  "metadata": {
    "colab": {
      "name": "Cópia de Copy of python_exercises_02.ipynb",
      "provenance": [],
      "include_colab_link": true
    },
    "kernelspec": {
      "name": "python3",
      "display_name": "Python 3"
    }
  },
  "cells": [
    {
      "cell_type": "markdown",
      "metadata": {
        "id": "view-in-github",
        "colab_type": "text"
      },
      "source": [
        "<a href=\"https://colab.research.google.com/github/FernandoLajus/br-python-condensed/blob/main/(Resolvido)%20Python_exercises_02.ipynb\" target=\"_parent\"><img src=\"https://colab.research.google.com/assets/colab-badge.svg\" alt=\"Open In Colab\"/></a>"
      ]
    },
    {
      "cell_type": "markdown",
      "metadata": {
        "id": "8YqaSZgXYJ5g"
      },
      "source": [
        "![](https://i.imgur.com/YX6UATs.png)\n"
      ]
    },
    {
      "cell_type": "markdown",
      "metadata": {
        "id": "hhUVzDipaGb9"
      },
      "source": [
        "### **Exercícios de Python - 2** \n",
        "\n",
        "\n",
        "\n"
      ]
    },
    {
      "cell_type": "markdown",
      "metadata": {
        "id": "c62cM2VlKFqN"
      },
      "source": [
        "1 - Faça um programa que leia um nome de usuário e a sua senha e não aceite a senha igual ao nome do usuário, mostrando uma mensagem de erro."
      ]
    },
    {
      "cell_type": "code",
      "metadata": {
        "id": "A3ajzaOSq69B"
      },
      "source": [
        "def login():\n",
        "  nome= input(\"Defina seu login: \")\n",
        "  senha= input(\"Defina uma senha, diferente de seu login: \")\n",
        "  if nome == senha:\n",
        "    return(\"Seu nome deve ser diferente de sua senha\")\n",
        "  else:\n",
        "    return(\"Login salvo\")"
      ],
      "execution_count": 8,
      "outputs": []
    },
    {
      "cell_type": "code",
      "metadata": {
        "id": "yhO_8yfTNo_f",
        "outputId": "8a0d1e73-89fd-4e29-9be6-38610a39d77f",
        "colab": {
          "base_uri": "https://localhost:8080/",
          "height": 69
        }
      },
      "source": [
        "login()"
      ],
      "execution_count": 9,
      "outputs": [
        {
          "output_type": "stream",
          "text": [
            "Defina seu login: Fernando\n",
            "Defina uma senha, diferente de seu login: 1234\n"
          ],
          "name": "stdout"
        },
        {
          "output_type": "execute_result",
          "data": {
            "application/vnd.google.colaboratory.intrinsic+json": {
              "type": "string"
            },
            "text/plain": [
              "'Login salvo'"
            ]
          },
          "metadata": {
            "tags": []
          },
          "execution_count": 9
        }
      ]
    },
    {
      "cell_type": "markdown",
      "metadata": {
        "id": "qMGp-h8OaGqr"
      },
      "source": [
        "[2 - Utilizando listas faça um programa que faça 5 perguntas para uma pessoa sobre um crime. As perguntas são:\n",
        "- \"Telefonou para a vítima?\"\n",
        "- \"Esteve no local do crime?\"\n",
        "- \"Mora perto da vítima?\"\n",
        "- \"Devia para a vítima?\"\n",
        "- \"Já trabalhou com a vítima?\" \\\n",
        "O programa deve no final emitir uma classificação sobre a participação da pessoa no crime. Se a pessoa responder positivamente a 2 questões ela deve ser classificada como \"Suspeita\", entre 3 e 4 como \"Cúmplice\" e 5 como \"Assassino\". Caso contrário, ele será classificado como \"Inocente\"."
      ]
    },
    {
      "cell_type": "code",
      "metadata": {
        "id": "kTg-D89NdCld"
      },
      "source": [
        "lista_perguntas =[[\"Telefonou para a vítima\"],[\"Esteve no local do crime\"],\n",
        "                  [\"Mora perto da vítima:\"],[\"Devia para a vítima:\"],[\"Já trabalhou com a vítima:\"]]"
      ],
      "execution_count": 43,
      "outputs": []
    },
    {
      "cell_type": "code",
      "metadata": {
        "id": "BVn4iD27PVEo",
        "outputId": "ad9d1f91-c1b2-4e39-fa8e-384c39b0b5c0",
        "colab": {
          "base_uri": "https://localhost:8080/"
        }
      },
      "source": [
        "lista_perguntas"
      ],
      "execution_count": 44,
      "outputs": [
        {
          "output_type": "execute_result",
          "data": {
            "text/plain": [
              "[['Telefonou para a vítima'],\n",
              " ['Esteve no local do crime'],\n",
              " ['Mora perto da vítima:'],\n",
              " ['Devia para a vítima:'],\n",
              " ['Já trabalhou com a vítima:']]"
            ]
          },
          "metadata": {
            "tags": []
          },
          "execution_count": 44
        }
      ]
    },
    {
      "cell_type": "code",
      "metadata": {
        "id": "d3iB-23dIMtZ"
      },
      "source": [
        "respostas_1 = list (chr(5))"
      ],
      "execution_count": 105,
      "outputs": []
    },
    {
      "cell_type": "code",
      "metadata": {
        "id": "dlxkKYZIPZH7"
      },
      "source": [
        "def questionário ():\n",
        "  respostas_1 = input (\"Telefonou para a vítima (sim/não):\")\n",
        "  respostas_1 = input (\"Esteve no local do crime(sim/não):\")\n",
        "  respostas_1 = input (\"Mora perto da vítima(sim/não):\" )\n",
        "  respostas_1 = input (\"Devia para a vítima(sim/não):\" )\n",
        "  respostas_1 = input (\"Já trabalhou com a vítima(sim/não):\")\n",
        "  return respostas_1  \n",
        "  \n",
        "    "
      ],
      "execution_count": 107,
      "outputs": []
    },
    {
      "cell_type": "code",
      "metadata": {
        "id": "4mB4hgXmRUO8",
        "outputId": "18443e1b-ba5a-408d-f120-d6c132c6a357",
        "colab": {
          "base_uri": "https://localhost:8080/",
          "height": 120
        }
      },
      "source": [
        "questionário ()"
      ],
      "execution_count": 109,
      "outputs": [
        {
          "output_type": "stream",
          "text": [
            "Telefonou para a vítima (sim/não):s\n",
            "Esteve no local do crime(sim/não):s\n",
            "Mora perto da vítima(sim/não):er\n",
            "Devia para a vítima(sim/não):f\n",
            "Já trabalhou com a vítima(sim/não):g\n"
          ],
          "name": "stdout"
        },
        {
          "output_type": "execute_result",
          "data": {
            "application/vnd.google.colaboratory.intrinsic+json": {
              "type": "string"
            },
            "text/plain": [
              "'g'"
            ]
          },
          "metadata": {
            "tags": []
          },
          "execution_count": 109
        }
      ]
    },
    {
      "cell_type": "code",
      "metadata": {
        "id": "r_fq5ERXIdt1",
        "outputId": "908cb0dd-bbea-4aa4-c203-7c68e3d1615b",
        "colab": {
          "base_uri": "https://localhost:8080/"
        }
      },
      "source": [
        "respostas_1"
      ],
      "execution_count": 106,
      "outputs": [
        {
          "output_type": "execute_result",
          "data": {
            "text/plain": [
              "['\\x05']"
            ]
          },
          "metadata": {
            "tags": []
          },
          "execution_count": 106
        }
      ]
    },
    {
      "cell_type": "markdown",
      "metadata": {
        "id": "HBcXZEfAQXtx"
      },
      "source": [
        ""
      ]
    },
    {
      "cell_type": "code",
      "metadata": {
        "id": "uMdW9-jKPvBp",
        "outputId": "4b7685ff-ab82-4405-b472-1008db142dc3",
        "colab": {
          "base_uri": "https://localhost:8080/"
        }
      },
      "source": [
        "questionário()"
      ],
      "execution_count": 31,
      "outputs": [
        {
          "output_type": "stream",
          "text": [
            "Telefonou para a vítimaSim\n",
            "Esteve no local do crimeSim\n",
            "Mora perto da vítimaSim\n",
            "Devia para a vítimaSim\n",
            "Já trabalhou com a vítimaSim\n"
          ],
          "name": "stdout"
        }
      ]
    },
    {
      "cell_type": "markdown",
      "metadata": {
        "id": "FTK9nE4pdB1D"
      },
      "source": [
        "3 - A lista abaixo possui nomes de alunos de uma classe. Crie um loop que imprima '{nome} é aluno da classe'\n"
      ]
    },
    {
      "cell_type": "code",
      "metadata": {
        "id": "nW4SbDxTmx4t"
      },
      "source": [
        "alunos =['Maria','João','Marcelo','Jonas','Laura','Luana']"
      ],
      "execution_count": 35,
      "outputs": []
    },
    {
      "cell_type": "code",
      "metadata": {
        "id": "odsnn41qSgBH",
        "outputId": "a797f7ae-df6a-4a30-c276-4216cbab2d47",
        "colab": {
          "base_uri": "https://localhost:8080/"
        }
      },
      "source": [
        "alunos"
      ],
      "execution_count": 6,
      "outputs": [
        {
          "output_type": "execute_result",
          "data": {
            "text/plain": [
              "['Maria', 'João', 'Marcelo', 'Jonas', 'Laura', 'Luana']"
            ]
          },
          "metadata": {
            "tags": []
          },
          "execution_count": 6
        }
      ]
    },
    {
      "cell_type": "code",
      "metadata": {
        "id": "0sRr8MXCpbGP",
        "outputId": "bc242582-a9e2-429e-bb6b-fc80a3192ce2",
        "colab": {
          "base_uri": "https://localhost:8080/"
        }
      },
      "source": [
        "for i in alunos:\n",
        "  print (f\"{i} é aluno/a da turma A\")"
      ],
      "execution_count": 7,
      "outputs": [
        {
          "output_type": "stream",
          "text": [
            "Maria é aluno/a da turma A\n",
            "João é aluno/a da turma A\n",
            "Marcelo é aluno/a da turma A\n",
            "Jonas é aluno/a da turma A\n",
            "Laura é aluno/a da turma A\n",
            "Luana é aluno/a da turma A\n"
          ],
          "name": "stdout"
        }
      ]
    },
    {
      "cell_type": "markdown",
      "metadata": {
        "id": "_HbJNv8MaG4g"
      },
      "source": [
        "4 - Utilizando-se da mesma lista trabalhada acima e a lista dada abaixo, que contem as idades dos alunos, realize um loop que faça a iteração com as duas listas printando \"{nome} tem {idade} anos\".\n",
        "Dica: utilize *zip*()"
      ]
    },
    {
      "cell_type": "code",
      "metadata": {
        "id": "LJDxmAbJeO9V"
      },
      "source": [
        "idades = [23,34,42,54,26,27]"
      ],
      "execution_count": 36,
      "outputs": []
    },
    {
      "cell_type": "code",
      "metadata": {
        "id": "Kq1Lc7Ukps-V"
      },
      "source": [
        "##Zipando as duas listas. Para isso é preciso usar \"zip\", contudo, antes de rodar, é preciso atribuir o tipo de objeto à função \"zip\", no caso um lista. \n",
        "##Poderia também dizer que o é um dicionário. Nesse caso a primeira lista seria a \"key\" dos elementos da segunda lista.\n",
        "alu_ida= list(zip(alunos, idades))"
      ],
      "execution_count": 37,
      "outputs": []
    },
    {
      "cell_type": "code",
      "metadata": {
        "id": "17JzWhc3UTYm",
        "outputId": "5daf8f06-3a00-4b71-ad39-998de0bf833e",
        "colab": {
          "base_uri": "https://localhost:8080/"
        }
      },
      "source": [
        "alu_ida"
      ],
      "execution_count": 38,
      "outputs": [
        {
          "output_type": "execute_result",
          "data": {
            "text/plain": [
              "[('Maria', 23),\n",
              " ('João', 34),\n",
              " ('Marcelo', 42),\n",
              " ('Jonas', 54),\n",
              " ('Laura', 26),\n",
              " ('Luana', 27)]"
            ]
          },
          "metadata": {
            "tags": []
          },
          "execution_count": 38
        }
      ]
    },
    {
      "cell_type": "code",
      "metadata": {
        "id": "EGvAgS4xuleu",
        "outputId": "8db8a85a-dd93-4424-f2b0-df6e1c4de14f",
        "colab": {
          "base_uri": "https://localhost:8080/"
        }
      },
      "source": [
        "print (alu_ida)\n"
      ],
      "execution_count": 39,
      "outputs": [
        {
          "output_type": "stream",
          "text": [
            "[('Maria', 23), ('João', 34), ('Marcelo', 42), ('Jonas', 54), ('Laura', 26), ('Luana', 27)]\n"
          ],
          "name": "stdout"
        }
      ]
    },
    {
      "cell_type": "code",
      "metadata": {
        "id": "7V3WktHT5xFb",
        "outputId": "72a4f8bc-5d4b-49f9-e08a-649f67207454",
        "colab": {
          "base_uri": "https://localhost:8080/"
        }
      },
      "source": [
        "for (i,a) in alu_ida:\n",
        "  print (f\"{i} tem {a} anos de idade\")"
      ],
      "execution_count": 41,
      "outputs": [
        {
          "output_type": "stream",
          "text": [
            "Maria tem 23 anos de idade\n",
            "João tem 34 anos de idade\n",
            "Marcelo tem 42 anos de idade\n",
            "Jonas tem 54 anos de idade\n",
            "Laura tem 26 anos de idade\n",
            "Luana tem 27 anos de idade\n"
          ],
          "name": "stdout"
        }
      ]
    },
    {
      "cell_type": "markdown",
      "metadata": {
        "id": "0tkhm6EUaG1u"
      },
      "source": [
        "5 - Transforme as duas listas anteriores em um dicionário cuja chave é o nome e o valor é a idade."
      ]
    },
    {
      "cell_type": "code",
      "metadata": {
        "id": "GU405fWRUwPb",
        "outputId": "c0127733-879d-4329-b214-2544df883b76",
        "colab": {
          "base_uri": "https://localhost:8080/"
        }
      },
      "source": [
        "alu_ida"
      ],
      "execution_count": 113,
      "outputs": [
        {
          "output_type": "execute_result",
          "data": {
            "text/plain": [
              "[('Maria', 23),\n",
              " ('João', 34),\n",
              " ('Marcelo', 42),\n",
              " ('Jonas', 54),\n",
              " ('Laura', 26),\n",
              " ('Luana', 27)]"
            ]
          },
          "metadata": {
            "tags": []
          },
          "execution_count": 113
        }
      ]
    },
    {
      "cell_type": "code",
      "metadata": {
        "id": "MNINJ32eU45M"
      },
      "source": [
        "alu_ida_dict = {}\n",
        "for i in alu_ida:\n",
        "  alu_ida_dict [i[0]] = {}\n",
        "  alu_ida_dict[i[0]][\"idade\"] = i[1]"
      ],
      "execution_count": 118,
      "outputs": []
    },
    {
      "cell_type": "code",
      "metadata": {
        "id": "LY7v8m7jQF8m",
        "outputId": "86da7fd3-9425-4de2-adc6-d8bacdf9aafc",
        "colab": {
          "base_uri": "https://localhost:8080/"
        }
      },
      "source": [
        "alu_ida_dict"
      ],
      "execution_count": 119,
      "outputs": [
        {
          "output_type": "execute_result",
          "data": {
            "text/plain": [
              "{'Jonas': {'idade': 54},\n",
              " 'João': {'idade': 34},\n",
              " 'Laura': {'idade': 26},\n",
              " 'Luana': {'idade': 27},\n",
              " 'Marcelo': {'idade': 42},\n",
              " 'Maria': {'idade': 23}}"
            ]
          },
          "metadata": {
            "tags": []
          },
          "execution_count": 119
        }
      ]
    },
    {
      "cell_type": "markdown",
      "metadata": {
        "id": "Lm1tOKThnU42"
      },
      "source": [
        "Exercícios adaptados de Python Brasil"
      ]
    }
  ]
}