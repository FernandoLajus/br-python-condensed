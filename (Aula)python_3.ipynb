{
  "nbformat": 4,
  "nbformat_minor": 0,
  "metadata": {
    "colab": {
      "name": "python-aula3.ipynb",
      "provenance": [],
      "collapsed_sections": [],
      "include_colab_link": true
    },
    "kernelspec": {
      "name": "python3",
      "display_name": "Python 3"
    }
  },
  "cells": [
    {
      "cell_type": "markdown",
      "metadata": {
        "id": "view-in-github",
        "colab_type": "text"
      },
      "source": [
        "<a href=\"https://colab.research.google.com/github/FernandoLajus/br-python-condensed/blob/main/(Aula)python_3.ipynb\" target=\"_parent\"><img src=\"https://colab.research.google.com/assets/colab-badge.svg\" alt=\"Open In Colab\"/></a>"
      ]
    },
    {
      "cell_type": "markdown",
      "metadata": {
        "id": "zvvIrPEcnXcV"
      },
      "source": [
        "<img src=\"https://i.imgur.com/JsMvGnP.pngwidth\" height=\"30\">  \n",
        "<p style=\"color: #2e6c80; text-align: center;\"><strong>\n"
      ]
    },
    {
      "cell_type": "code",
      "metadata": {
        "id": "RsSq1VLuRRhL"
      },
      "source": [
        "academia_dict = {'Charlotte': {'altura': 1.56, 'imc': 21, 'peso': 52, 'sexo': 'F'},\n",
        " 'Claudia': {'altura': 1.56, 'imc': 25, 'peso': 62, 'sexo': 'F'},\n",
        " 'Jonas': {'altura': 1.56, 'imc': 21, 'peso': 52, 'sexo': 'M'},\n",
        " 'Martha': {'altura': 1.98, 'imc': 19, 'peso': 76, 'sexo': 'F'},\n",
        " 'Mikkel': {'altura': 1.56, 'imc': 28, 'peso': 67, 'sexo': 'M'},\n",
        " 'Ulrich': {'altura': 1.92, 'imc': 22, 'peso': 80, 'sexo': 'M'}}"
      ],
      "execution_count": null,
      "outputs": []
    },
    {
      "cell_type": "markdown",
      "metadata": {
        "id": "6bRRXs1rnTRX"
      },
      "source": [
        "**Criando a mensagem padrão**"
      ]
    },
    {
      "cell_type": "code",
      "metadata": {
        "id": "4MQ6cAbvO56I",
        "colab": {
          "base_uri": "https://localhost:8080/"
        },
        "outputId": "754a23be-e3ee-4bfe-9330-7938be871d78"
      },
      "source": [
        "for i in academia_dict.keys():\n",
        "  if (academia_dict[i]['sexo']==\"F\") and (academia_dict[i]['imc']>25):\n",
        "    print(f'Olá {i}, gostaríamos de informá-la que seu IMC é {academia_dict[i][\"imc\"]}. Estaja preparada para novos treinos.')\n",
        "  elif (academia_dict[i]['sexo']==\"M\") and (academia_dict[i]['imc']>25):\n",
        "    print(f'Olá {i}, gostaríamos de informá-lo que seu IMC é {academia_dict[i][\"imc\"]}. Estaja preparado para novos treinos.')\n",
        "  elif (academia_dict[i]['sexo']==\"F\") and (academia_dict[i]['imc']<=25):\n",
        "    print(f'Olá {i}, gostaríamos de informá-la que seu IMC é {academia_dict[i][\"imc\"]}. Seus trienos serão mantidos.')\n",
        "  elif (academia_dict[i]['sexo']==\"M\") and (academia_dict[i]['imc']<=25):\n",
        "    print(f'Olá {i}, gostaríamos de informá-lo que seu IMC é {academia_dict[i][\"imc\"]}. Seus trienos serão mantidos.')\n"
      ],
      "execution_count": null,
      "outputs": [
        {
          "output_type": "stream",
          "text": [
            "Olá Charlotte, gostaríamos de informá-la que seu IMC é 21. Seus trienos serão mantidos\n",
            "Olá Claudia, gostaríamos de informá-la que seu IMC é 25. Seus trienos serão mantidos\n",
            "Olá Jonas, gostaríamos de informá-lo que seu IMC é 21. Seus trienos serão mantidos\n",
            "Olá Martha, gostaríamos de informá-la que seu IMC é 19. Seus trienos serão mantidos\n",
            "Olá Mikkel, gostaríamos de informá-lo que seu IMC é 28. Estaja preparado para novos treinos\n",
            "Olá Ulrich, gostaríamos de informá-lo que seu IMC é 22. Seus trienos serão mantidos\n"
          ],
          "name": "stdout"
        }
      ]
    },
    {
      "cell_type": "code",
      "metadata": {
        "id": "VNbNU4o-mc9R"
      },
      "source": [
        ""
      ],
      "execution_count": null,
      "outputs": []
    },
    {
      "cell_type": "code",
      "metadata": {
        "id": "x_G2d3rF7IOZ"
      },
      "source": [
        ""
      ],
      "execution_count": null,
      "outputs": []
    },
    {
      "cell_type": "markdown",
      "metadata": {
        "id": "K4mONVcuNsPy"
      },
      "source": [
        "Python Complementar 3 - E se precisássemos fazer uma análise de vários aspectos dos clientes de nossa academia?"
      ]
    },
    {
      "cell_type": "markdown",
      "metadata": {
        "id": "rWI8QBt-mCaM"
      },
      "source": [
        "Relembrando ***funções***:"
      ]
    },
    {
      "cell_type": "code",
      "metadata": {
        "id": "bI7kLkzAmH4k"
      },
      "source": [
        "def funcao():\n",
        "  print(\"Olhe minha função\")"
      ],
      "execution_count": null,
      "outputs": []
    },
    {
      "cell_type": "code",
      "metadata": {
        "id": "y6ejcPEXwUxQ",
        "colab": {
          "base_uri": "https://localhost:8080/"
        },
        "outputId": "5a04b9d4-1c7c-4fda-e21b-24058aa588f1"
      },
      "source": [
        "funcao()"
      ],
      "execution_count": null,
      "outputs": [
        {
          "output_type": "stream",
          "text": [
            "Olhe minha função\n"
          ],
          "name": "stdout"
        }
      ]
    },
    {
      "cell_type": "markdown",
      "metadata": {
        "id": "MKrnryUGm-9r"
      },
      "source": [
        "Relembrando ***funções com argumentos***:"
      ]
    },
    {
      "cell_type": "code",
      "metadata": {
        "id": "lIplmguroav0"
      },
      "source": [
        "def funcao_com_arg(pessoa):\n",
        "  print(f'Olhe minha função, {pessoa}')"
      ],
      "execution_count": null,
      "outputs": []
    },
    {
      "cell_type": "code",
      "metadata": {
        "id": "ofxwREEMwutG",
        "colab": {
          "base_uri": "https://localhost:8080/"
        },
        "outputId": "fb77550a-d729-4e76-ff38-bc312b8cd395"
      },
      "source": [
        "funcao_com_arg(\"João\")"
      ],
      "execution_count": null,
      "outputs": [
        {
          "output_type": "stream",
          "text": [
            "Olhe minha função, João\n"
          ],
          "name": "stdout"
        }
      ]
    },
    {
      "cell_type": "markdown",
      "metadata": {
        "id": "dv4WorH_j6Gk"
      },
      "source": [
        "Passando uma variável dentro da função."
      ]
    },
    {
      "cell_type": "code",
      "metadata": {
        "id": "-EN7g45rj5rz"
      },
      "source": [
        "nome = \"Sebastião\""
      ],
      "execution_count": null,
      "outputs": []
    },
    {
      "cell_type": "code",
      "metadata": {
        "id": "P5PWCaodnChF",
        "colab": {
          "base_uri": "https://localhost:8080/"
        },
        "outputId": "0a6253f2-47e2-4d13-ea57-0dc471993931"
      },
      "source": [
        "funcao_com_arg(nome)"
      ],
      "execution_count": null,
      "outputs": [
        {
          "output_type": "stream",
          "text": [
            "Olhe minha função, Sebastião\n"
          ],
          "name": "stdout"
        }
      ]
    },
    {
      "cell_type": "code",
      "metadata": {
        "id": "lrK_XZRyQt61"
      },
      "source": [
        "def multiplicacao(numero,multiplicador=2):\n",
        "  return numero*multiplicador"
      ],
      "execution_count": null,
      "outputs": []
    },
    {
      "cell_type": "code",
      "metadata": {
        "colab": {
          "base_uri": "https://localhost:8080/"
        },
        "id": "or1hq0CpQ6y0",
        "outputId": "d39598fe-39b0-4d78-9834-582086344cf5"
      },
      "source": [
        "multiplicacao(10,5)"
      ],
      "execution_count": null,
      "outputs": [
        {
          "output_type": "execute_result",
          "data": {
            "text/plain": [
              "50"
            ]
          },
          "metadata": {
            "tags": []
          },
          "execution_count": 18
        }
      ]
    },
    {
      "cell_type": "markdown",
      "metadata": {
        "id": "25-VtR4eMt2B"
      },
      "source": [
        "# **Para que classes?** - Invertendo a lógica."
      ]
    },
    {
      "cell_type": "markdown",
      "metadata": {
        "id": "UI426Y6EoAzH"
      },
      "source": [
        "Trocar self por my"
      ]
    },
    {
      "cell_type": "code",
      "metadata": {
        "id": "UaojXK7KQlz1"
      },
      "source": [
        ""
      ],
      "execution_count": null,
      "outputs": []
    },
    {
      "cell_type": "code",
      "metadata": {
        "id": "J9Utf0DYn6rG"
      },
      "source": [
        "class Aluno():\n",
        "  def __init__(meu,nome,email,mensalidade=100):\n",
        "    meu.nome = nome\n",
        "    meu.email = email\n",
        "    meu.mensalidade= mensalidade\n"
      ],
      "execution_count": null,
      "outputs": []
    },
    {
      "cell_type": "markdown",
      "metadata": {
        "id": "53LMtrONn69T"
      },
      "source": [
        "Voltando para o self"
      ]
    },
    {
      "cell_type": "code",
      "metadata": {
        "id": "Zk_FS6K0oME_"
      },
      "source": [
        "class Aluno():\n",
        "  def __init__(self,nome,email,mensalidade=100):\n",
        "    self.nome = nome\n",
        "    self.email = email\n",
        "    self.mensalidade= mensalidade"
      ],
      "execution_count": null,
      "outputs": []
    },
    {
      "cell_type": "markdown",
      "metadata": {
        "id": "apb25aYOOgNT"
      },
      "source": [
        "\n",
        "**Objeto**"
      ]
    },
    {
      "cell_type": "code",
      "metadata": {
        "id": "CLidFBd-yyF9"
      },
      "source": [
        "ulrich = Aluno(\"Ulrich\",\"ulrich@dark.de\")\n",
        "martha = Aluno(\"Martha\",\"martha@dark.de\",150)"
      ],
      "execution_count": null,
      "outputs": []
    },
    {
      "cell_type": "code",
      "metadata": {
        "id": "cMr9w-2aYe1i"
      },
      "source": [
        ""
      ],
      "execution_count": null,
      "outputs": []
    },
    {
      "cell_type": "markdown",
      "metadata": {
        "id": "8jmR_dGkPGcl"
      },
      "source": [
        "Chamando um **atributo**"
      ]
    },
    {
      "cell_type": "code",
      "metadata": {
        "id": "cfWkTUWpzT11",
        "colab": {
          "base_uri": "https://localhost:8080/"
        },
        "outputId": "9cb2aa41-4344-4b5c-f440-c3e5052cb4b0"
      },
      "source": [
        "ulrich.mensalidade"
      ],
      "execution_count": null,
      "outputs": [
        {
          "output_type": "execute_result",
          "data": {
            "text/plain": [
              "100"
            ]
          },
          "metadata": {
            "tags": []
          },
          "execution_count": 21
        }
      ]
    },
    {
      "cell_type": "code",
      "metadata": {
        "id": "Z-d8iB7YzMKt",
        "colab": {
          "base_uri": "https://localhost:8080/"
        },
        "outputId": "ff457c81-b233-477f-85df-35a23f83031e"
      },
      "source": [
        "martha.mensalidade"
      ],
      "execution_count": null,
      "outputs": [
        {
          "output_type": "execute_result",
          "data": {
            "text/plain": [
              "150"
            ]
          },
          "metadata": {
            "tags": []
          },
          "execution_count": 23
        }
      ]
    },
    {
      "cell_type": "code",
      "metadata": {
        "id": "OCYwpiB5Kh1e"
      },
      "source": [
        ""
      ],
      "execution_count": null,
      "outputs": []
    },
    {
      "cell_type": "code",
      "metadata": {
        "id": "vzG1BKbTKwX-"
      },
      "source": [
        ""
      ],
      "execution_count": null,
      "outputs": []
    },
    {
      "cell_type": "markdown",
      "metadata": {
        "id": "s59h5Nq1Xu_Q"
      },
      "source": [
        "**Exercício** - Crie a uma classe chamada ContaCorrente.\n",
        "Ela deverá conter os atributos número da conta, nome do correntista e iniciar com um saldo de R$1000.\\\n",
        "Inicie um objeto da classe criada."
      ]
    },
    {
      "cell_type": "code",
      "metadata": {
        "id": "kIDW7Jeg8iMp"
      },
      "source": [
        "class ContaCorrente():\n",
        "  def __init__(self,n_conta,nome_correntista,saldo=1000):\n",
        "    self.n_conta=n_conta\n",
        "    self.nome_correntista=nome_correntista\n",
        "    self.saldo=saldo"
      ],
      "execution_count": null,
      "outputs": []
    },
    {
      "cell_type": "code",
      "metadata": {
        "id": "XqIjj-zCAmzD"
      },
      "source": [
        "conta_vinicius = ContaCorrente(8146726321,\"Vinicius\")\n",
        "conta_bill_gates = ContaCorrente(12381723534,\"Bill Gates\",saldo=1000000000000)"
      ],
      "execution_count": null,
      "outputs": []
    },
    {
      "cell_type": "code",
      "metadata": {
        "id": "O1iasQ0hBKkH",
        "colab": {
          "base_uri": "https://localhost:8080/"
        },
        "outputId": "4ce650b3-d456-466b-8ee5-3bb4905f0dee"
      },
      "source": [
        "conta_vinicius.n_conta"
      ],
      "execution_count": null,
      "outputs": [
        {
          "output_type": "execute_result",
          "data": {
            "text/plain": [
              "8146726321"
            ]
          },
          "metadata": {
            "tags": []
          },
          "execution_count": 27
        }
      ]
    },
    {
      "cell_type": "code",
      "metadata": {
        "colab": {
          "base_uri": "https://localhost:8080/"
        },
        "id": "VU6A6otsTlam",
        "outputId": "3ed8bf06-98f1-42a4-a970-097680c6cbd0"
      },
      "source": [
        "conta_bill_gates.saldo"
      ],
      "execution_count": null,
      "outputs": [
        {
          "output_type": "execute_result",
          "data": {
            "text/plain": [
              "1000000000000"
            ]
          },
          "metadata": {
            "tags": []
          },
          "execution_count": 28
        }
      ]
    },
    {
      "cell_type": "code",
      "metadata": {
        "id": "vznMitcbB_yv"
      },
      "source": [
        ""
      ],
      "execution_count": null,
      "outputs": []
    },
    {
      "cell_type": "markdown",
      "metadata": {
        "id": "GnhMFsHPPYec"
      },
      "source": [
        "Criando e aplicando um **método**"
      ]
    },
    {
      "cell_type": "code",
      "metadata": {
        "id": "ngCW6ksFoe27"
      },
      "source": [
        "class Aluno():\n",
        "  #inicializando os atributos da classe\n",
        "  def __init__(self,nome,email,mensalidade=100):\n",
        "    self.nome = nome\n",
        "    self.email = email\n",
        "    self.mensalidade= mensalidade\n",
        "\n",
        "  def msg_cobranca(self):\n",
        "    print(f'Olá {self.nome}, o boleto no valor de R${self.mensalidade} já está disponível.')"
      ],
      "execution_count": null,
      "outputs": []
    },
    {
      "cell_type": "code",
      "metadata": {
        "id": "Nw86o248oc57"
      },
      "source": [
        "ulrich = Aluno(\"Ulrich\",\"ulrich@dark.de\")\n",
        "martha = Aluno(\"Martha\",\"martha@dark.de\",150)"
      ],
      "execution_count": null,
      "outputs": []
    },
    {
      "cell_type": "code",
      "metadata": {
        "id": "uVPEiJ_rodr0",
        "colab": {
          "base_uri": "https://localhost:8080/"
        },
        "outputId": "71141a88-4a9b-4c0b-9ea4-0333c2f1414b"
      },
      "source": [
        "ulrich.msg_cobranca()"
      ],
      "execution_count": null,
      "outputs": [
        {
          "output_type": "stream",
          "text": [
            "Olá Ulrich, o boleto no valor de R$100 já está disponível.\n"
          ],
          "name": "stdout"
        }
      ]
    },
    {
      "cell_type": "code",
      "metadata": {
        "colab": {
          "base_uri": "https://localhost:8080/"
        },
        "id": "ZJF17Y-ZUiVf",
        "outputId": "4335223e-fbd4-41cd-99ac-edd25ec63b6f"
      },
      "source": [
        "martha.msg_cobranca()"
      ],
      "execution_count": null,
      "outputs": [
        {
          "output_type": "stream",
          "text": [
            "Olá Martha, o boleto no valor de R$150 já está disponível.\n"
          ],
          "name": "stdout"
        }
      ]
    },
    {
      "cell_type": "markdown",
      "metadata": {
        "id": "D1REkCEBHpSn"
      },
      "source": [
        "**Exercício 2** - adicione o método **printSaldo** à classe. Esse método retorna a seguinte mensagem: \\\n",
        "Olá {nome}, seu saldo atual é de R${saldo}!"
      ]
    },
    {
      "cell_type": "code",
      "metadata": {
        "id": "-V9TSwlyHnwI"
      },
      "source": [
        "class ContaCorrente():\n",
        "  def __init__(self,n_conta,nome_correntista,saldo=1000):\n",
        "    self.n_conta=n_conta\n",
        "    self.nome_correntista=nome_correntista\n",
        "    self.saldo=saldo\n",
        "\n",
        "  def printSaldo(self):\n",
        "    print(f\"Olá {self.nome_correntista}, seu saldo atual é de R${self.saldo}!\")"
      ],
      "execution_count": null,
      "outputs": []
    },
    {
      "cell_type": "code",
      "metadata": {
        "id": "vDFUFXq4HAbJ"
      },
      "source": [
        "conta_vinicius = ContaCorrente(8146726321,\"Vinicius\")\n",
        "conta_bill_gates = ContaCorrente(12381723534,\"Bill Gates\",saldo=1000000000000)"
      ],
      "execution_count": null,
      "outputs": []
    },
    {
      "cell_type": "code",
      "metadata": {
        "colab": {
          "base_uri": "https://localhost:8080/"
        },
        "id": "1_sfVkq1VpWC",
        "outputId": "073fa966-6c38-42d6-85de-f2a3cc3a2b20"
      },
      "source": [
        "conta_vinicius.printSaldo()"
      ],
      "execution_count": null,
      "outputs": [
        {
          "output_type": "stream",
          "text": [
            "Olá Vinicius, seu saldo atual é de R$1000!\n"
          ],
          "name": "stdout"
        }
      ]
    },
    {
      "cell_type": "markdown",
      "metadata": {
        "id": "xIvY1Nwws4-0"
      },
      "source": [
        "Aplicando um **método** para modificar um **atributo**"
      ]
    },
    {
      "cell_type": "code",
      "metadata": {
        "id": "wM21fQINo_hj"
      },
      "source": [
        "class Aluno():\n",
        "  #inicializando os atributos da classe\n",
        "  def __init__(self,nome,email,mensalidade=100):\n",
        "    self.nome = nome\n",
        "    self.email = email\n",
        "    self.mensalidade= mensalidade\n",
        "\n",
        "  def msg_cobranca(self):\n",
        "    print(f'Olá {self.nome}, o boleto no valor de R${self.mensalidade} já está disponível.')\n",
        "\n",
        "  def aumento_mensalidade(self,taxa=0.1):\n",
        "    self.mensalidade=self.mensalidade+taxa*self.mensalidade"
      ],
      "execution_count": null,
      "outputs": []
    },
    {
      "cell_type": "code",
      "metadata": {
        "id": "10ZSfakOoedH"
      },
      "source": [
        "ulrich = Aluno(\"Ulrich\",\"ulrich@dark.de\")\n",
        "martha = Aluno(\"Martha\",\"martha@dark.de\",150)"
      ],
      "execution_count": null,
      "outputs": []
    },
    {
      "cell_type": "code",
      "metadata": {
        "id": "_2fa50BM2YJu",
        "colab": {
          "base_uri": "https://localhost:8080/"
        },
        "outputId": "48a8def0-6a59-4a73-ccae-9340e7bac894"
      },
      "source": [
        "print(ulrich.nome,\":\",ulrich.mensalidade)\n",
        "print(martha.nome,\":\",martha.mensalidade)"
      ],
      "execution_count": null,
      "outputs": [
        {
          "output_type": "stream",
          "text": [
            "Ulrich : 100\n",
            "Martha : 150\n"
          ],
          "name": "stdout"
        }
      ]
    },
    {
      "cell_type": "code",
      "metadata": {
        "id": "mNZveWv8JPgB"
      },
      "source": [
        "ulrich.aumento_mensalidade()"
      ],
      "execution_count": null,
      "outputs": []
    },
    {
      "cell_type": "code",
      "metadata": {
        "id": "Fh-So737YZ9o"
      },
      "source": [
        "martha.aumento_mensalidade()"
      ],
      "execution_count": null,
      "outputs": []
    },
    {
      "cell_type": "code",
      "metadata": {
        "colab": {
          "base_uri": "https://localhost:8080/"
        },
        "id": "525B6v9eYaK0",
        "outputId": "7151381e-f7d8-4ea1-8142-5b0910ec7aae"
      },
      "source": [
        "print(ulrich.nome,\":\",ulrich.mensalidade)\n",
        "print(martha.nome,\":\",martha.mensalidade)"
      ],
      "execution_count": null,
      "outputs": [
        {
          "output_type": "stream",
          "text": [
            "Ulrich : 110.0\n",
            "Martha : 165.0\n"
          ],
          "name": "stdout"
        }
      ]
    },
    {
      "cell_type": "markdown",
      "metadata": {
        "id": "Bs5P00QaI6vr"
      },
      "source": [
        "**Exercício 3** - Crie dois métodos: um que deposita dinheiro na conta corrente criada e outro que retira dinheiro dessa conta."
      ]
    },
    {
      "cell_type": "code",
      "metadata": {
        "id": "3AvGkno5JuqO"
      },
      "source": [
        "class ContaCorrente():\n",
        "  def __init__(self,n_conta,nome_correntista,saldo=1000):\n",
        "    self.n_conta=n_conta\n",
        "    self.nome_correntista=nome_correntista\n",
        "    self.saldo=saldo\n",
        "\n",
        "  def printSaldo(self):\n",
        "    print(f\"Olá {self.nome_correntista}, seu saldo atual é de R${self.saldo}!\")\n",
        "\n",
        "  def saque(self,valor):\n",
        "    if valor > self.saldo:\n",
        "      print(\"Erro: valor excede o saldo atual\")\n",
        "    else:\n",
        "      self.saldo=self.saldo-valor\n",
        "  \n",
        "  def deposito(self,valor):\n",
        "    self.saldo=self.saldo+valor"
      ],
      "execution_count": null,
      "outputs": []
    },
    {
      "cell_type": "code",
      "metadata": {
        "id": "c5cizf3-KAPo"
      },
      "source": [
        "conta_vinicius = ContaCorrente(8146726321,\"Vinicius\")\n",
        "conta_bill_gates = ContaCorrente(12381723534,\"Bill Gates\",saldo=1000000000000)"
      ],
      "execution_count": null,
      "outputs": []
    },
    {
      "cell_type": "code",
      "metadata": {
        "id": "VkUJJ3qXXaJc",
        "colab": {
          "base_uri": "https://localhost:8080/"
        },
        "outputId": "671f8be6-268c-4135-8fc3-687dc756f18e"
      },
      "source": [
        "conta_vinicius.saldo"
      ],
      "execution_count": null,
      "outputs": [
        {
          "output_type": "execute_result",
          "data": {
            "text/plain": [
              "1000"
            ]
          },
          "metadata": {
            "tags": []
          },
          "execution_count": 57
        }
      ]
    },
    {
      "cell_type": "code",
      "metadata": {
        "id": "iuvTWpfVXfjq"
      },
      "source": [
        "conta_vinicius.saque(900)"
      ],
      "execution_count": null,
      "outputs": []
    },
    {
      "cell_type": "code",
      "metadata": {
        "id": "U-PvuC1i-Uh3",
        "colab": {
          "base_uri": "https://localhost:8080/"
        },
        "outputId": "1d6f9da1-553b-498f-cba8-6df4a6b011e8"
      },
      "source": [
        "conta_vinicius.printSaldo()"
      ],
      "execution_count": null,
      "outputs": [
        {
          "output_type": "stream",
          "text": [
            "Olá Vinicius, seu saldo atual é de R$100!\n"
          ],
          "name": "stdout"
        }
      ]
    },
    {
      "cell_type": "code",
      "metadata": {
        "id": "5O9645WK-YfC"
      },
      "source": [
        ""
      ],
      "execution_count": null,
      "outputs": []
    },
    {
      "cell_type": "markdown",
      "metadata": {
        "id": "8OFsjsNuyLnC"
      },
      "source": [
        "Atributo da classe"
      ]
    },
    {
      "cell_type": "code",
      "metadata": {
        "id": "aIJMjagi-T6D"
      },
      "source": [
        "class Aluno():\n",
        "  vencimento = \"05\"\n",
        "  #inicializando os atributos da classe\n",
        "  def __init__(self,nome,email,mensalidade=100):\n",
        "    self.nome = nome\n",
        "    self.email = email\n",
        "    self.mensalidade= mensalidade\n",
        "\n",
        "  def msg_cobranca(self):\n",
        "    print(f'Olá {self.nome}, o boleto no valor de R${self.mensalidade} já está disponível. Pague até o dia {self.vencimento} do próximo mês')\n",
        "\n",
        "  def aumento_mensalidade(self,taxa=0.1):\n",
        "    self.mensalidade=self.mensalidade+taxa*self.mensalidade"
      ],
      "execution_count": null,
      "outputs": []
    },
    {
      "cell_type": "code",
      "metadata": {
        "id": "MxFvVBarxynX"
      },
      "source": [
        "ulrich = Aluno(\"Ulrich\",\"ulrich@dark.de\")\n",
        "martha = Aluno(\"Martha\",\"martha@dark.de\",150)"
      ],
      "execution_count": null,
      "outputs": []
    },
    {
      "cell_type": "code",
      "metadata": {
        "id": "ollQFLXsz4Xf",
        "colab": {
          "base_uri": "https://localhost:8080/",
          "height": 35
        },
        "outputId": "441d0724-981e-4a57-dc27-9ee71ab28588"
      },
      "source": [
        "ulrich.vencimento"
      ],
      "execution_count": null,
      "outputs": [
        {
          "output_type": "execute_result",
          "data": {
            "application/vnd.google.colaboratory.intrinsic+json": {
              "type": "string"
            },
            "text/plain": [
              "'05'"
            ]
          },
          "metadata": {
            "tags": []
          },
          "execution_count": 72
        }
      ]
    },
    {
      "cell_type": "markdown",
      "metadata": {
        "id": "2eTmDcolYn08"
      },
      "source": [
        "Modificando atributos fora da criação da classe"
      ]
    },
    {
      "cell_type": "code",
      "metadata": {
        "id": "U1ISQlekYsF8"
      },
      "source": [
        "ulrich.mensalidade = 200"
      ],
      "execution_count": null,
      "outputs": []
    },
    {
      "cell_type": "code",
      "metadata": {
        "id": "xfMYw5FvY5u9",
        "colab": {
          "base_uri": "https://localhost:8080/"
        },
        "outputId": "cbce7833-3c3b-48e5-e38a-a47b8365e8b8"
      },
      "source": [
        "ulrich.mensalidade"
      ],
      "execution_count": null,
      "outputs": [
        {
          "output_type": "execute_result",
          "data": {
            "text/plain": [
              "200"
            ]
          },
          "metadata": {
            "tags": []
          },
          "execution_count": 74
        }
      ]
    },
    {
      "cell_type": "code",
      "metadata": {
        "id": "Rg8Ictsg_M15"
      },
      "source": [
        "martha.vencimento = \"10\""
      ],
      "execution_count": null,
      "outputs": []
    },
    {
      "cell_type": "code",
      "metadata": {
        "id": "Q19K3dBzNAJB",
        "colab": {
          "base_uri": "https://localhost:8080/",
          "height": 35
        },
        "outputId": "d4f5235f-00a8-4e2e-daa0-d7ae9ff292b4"
      },
      "source": [
        "martha.vencimento"
      ],
      "execution_count": null,
      "outputs": [
        {
          "output_type": "execute_result",
          "data": {
            "application/vnd.google.colaboratory.intrinsic+json": {
              "type": "string"
            },
            "text/plain": [
              "'10'"
            ]
          },
          "metadata": {
            "tags": []
          },
          "execution_count": 76
        }
      ]
    },
    {
      "cell_type": "code",
      "metadata": {
        "colab": {
          "base_uri": "https://localhost:8080/"
        },
        "id": "GLsGJZhtbRrD",
        "outputId": "38798827-2ee5-419d-8d1e-3200891cc0b4"
      },
      "source": [
        "ulrich.msg_cobranca()"
      ],
      "execution_count": null,
      "outputs": [
        {
          "output_type": "stream",
          "text": [
            "Olá Ulrich, o boleto no valor de R$200 já está disponível. Pague até o dia 05 do próximo mês\n"
          ],
          "name": "stdout"
        }
      ]
    },
    {
      "cell_type": "code",
      "metadata": {
        "colab": {
          "base_uri": "https://localhost:8080/"
        },
        "id": "Iw27BY_9beEk",
        "outputId": "6f6693b7-03ae-4ae0-a600-34353fca606b"
      },
      "source": [
        "martha.msg_cobranca()"
      ],
      "execution_count": null,
      "outputs": [
        {
          "output_type": "stream",
          "text": [
            "Olá Martha, o boleto no valor de R$150 já está disponível. Pague até o dia 10 do próximo mês\n"
          ],
          "name": "stdout"
        }
      ]
    },
    {
      "cell_type": "markdown",
      "metadata": {
        "id": "mg25GEMutaom"
      },
      "source": [
        "**Voltando à academia dos exercícios anteriores**"
      ]
    },
    {
      "cell_type": "code",
      "metadata": {
        "id": "4_FeXaXf_MUA"
      },
      "source": [
        ""
      ],
      "execution_count": null,
      "outputs": []
    },
    {
      "cell_type": "code",
      "metadata": {
        "id": "ejf3zp_IbcBq"
      },
      "source": [
        ""
      ],
      "execution_count": null,
      "outputs": []
    },
    {
      "cell_type": "markdown",
      "metadata": {
        "id": "GYO_eNr9J-S7"
      },
      "source": [
        "**Analisando dados dos clientes** \\\n",
        "**Exercício:** Média de IMCS \\\n",
        "Procedimento possível:\n",
        "- Transformar os IMCs em uma lista\n",
        "- Dividir a soma dos itens da lista por seu tamanho (**len**)"
      ]
    },
    {
      "cell_type": "code",
      "metadata": {
        "id": "4UgNe4Dj3jXz"
      },
      "source": [
        "clientes = {'Charlotte': {'altura': 1.56, 'imc': 21, 'peso': 52, 'sexo': 'F'},\n",
        " 'Claudia': {'altura': 1.56, 'imc': 25, 'peso': 62, 'sexo': 'F'},\n",
        " 'Jonas': {'altura': 1.56, 'imc': 21, 'peso': 52, 'sexo': 'M'},\n",
        " 'Martha': {'altura': 1.98, 'imc': 19, 'peso': 76, 'sexo': 'F'},\n",
        " 'Mikkel': {'altura': 1.56, 'imc': 28, 'peso': 67, 'sexo': 'M'},\n",
        " 'Ulrich': {'altura': 1.92, 'imc': 22, 'peso': 80, 'sexo': 'M'}}"
      ],
      "execution_count": null,
      "outputs": []
    },
    {
      "cell_type": "code",
      "metadata": {
        "id": "qspPwbOU3z7r"
      },
      "source": [
        "lista_de_imcs = []\n",
        "for aluno in clientes.keys():\n",
        "  imc = clientes[aluno]['imc']\n",
        "  lista_de_imcs.append(imc)"
      ],
      "execution_count": null,
      "outputs": []
    },
    {
      "cell_type": "code",
      "metadata": {
        "id": "lbj3DEvGceGA",
        "colab": {
          "base_uri": "https://localhost:8080/"
        },
        "outputId": "99f75fb7-18c8-438d-b3cc-222f503e8835"
      },
      "source": [
        "lista_de_imcs"
      ],
      "execution_count": null,
      "outputs": [
        {
          "output_type": "execute_result",
          "data": {
            "text/plain": [
              "[21, 25, 21, 19, 28, 22]"
            ]
          },
          "metadata": {
            "tags": []
          },
          "execution_count": 82
        }
      ]
    },
    {
      "cell_type": "code",
      "metadata": {
        "id": "-IUnYZgIoh-U"
      },
      "source": [
        "imc_media = sum(lista_de_imcs)/len(lista_de_imcs)"
      ],
      "execution_count": null,
      "outputs": []
    },
    {
      "cell_type": "code",
      "metadata": {
        "id": "0fO_CzemdB4Z",
        "colab": {
          "base_uri": "https://localhost:8080/"
        },
        "outputId": "3393135d-43f6-4540-c458-d337f75d347c"
      },
      "source": [
        "imc_media"
      ],
      "execution_count": null,
      "outputs": [
        {
          "output_type": "execute_result",
          "data": {
            "text/plain": [
              "22.666666666666668"
            ]
          },
          "metadata": {
            "tags": []
          },
          "execution_count": 86
        }
      ]
    },
    {
      "cell_type": "code",
      "metadata": {
        "id": "tT0IiaSaoipE"
      },
      "source": [
        ""
      ],
      "execution_count": null,
      "outputs": []
    },
    {
      "cell_type": "markdown",
      "metadata": {
        "id": "uzuXEeUmLP38"
      },
      "source": [
        "**E se quisermos calcular a mediana?**\n",
        "\n"
      ]
    },
    {
      "cell_type": "markdown",
      "metadata": {
        "id": "bk_NX7a82um4"
      },
      "source": [
        "- Ordenar a lista\n",
        "- Escolher o valor do meio\n",
        "- Se a lista tiver um número par de elementos, fazer a média dos dois valores do meio"
      ]
    },
    {
      "cell_type": "code",
      "metadata": {
        "id": "CIakr7SX2tZn"
      },
      "source": [
        ""
      ],
      "execution_count": null,
      "outputs": []
    },
    {
      "cell_type": "markdown",
      "metadata": {
        "id": "bqjn-SMQ2XBf"
      },
      "source": [
        "**E se quisermos calcular o desvio padrão?**"
      ]
    },
    {
      "cell_type": "code",
      "metadata": {
        "id": "9Y47x-jk2eH0"
      },
      "source": [
        ""
      ],
      "execution_count": null,
      "outputs": []
    },
    {
      "cell_type": "code",
      "metadata": {
        "id": "v2bW--e62dvY"
      },
      "source": [
        ""
      ],
      "execution_count": null,
      "outputs": []
    },
    {
      "cell_type": "markdown",
      "metadata": {
        "id": "vcI823XiMPDW"
      },
      "source": [
        "**Ahh nãããoo... paramos por aqui!**"
      ]
    },
    {
      "cell_type": "markdown",
      "metadata": {
        "id": "0nmY2egJt653"
      },
      "source": [
        "**Utilizando uma classe - Pandas**"
      ]
    },
    {
      "cell_type": "markdown",
      "metadata": {
        "id": "CagJVLzQJqg0"
      },
      "source": [
        "Criando um **objeto** da **classe** Dataframe da biblioteca pandas"
      ]
    },
    {
      "cell_type": "code",
      "metadata": {
        "id": "zhC2aA492dTO",
        "colab": {
          "base_uri": "https://localhost:8080/"
        },
        "outputId": "21512f50-7003-4f15-ccde-6e46b8992496"
      },
      "source": [
        "type(clientes)"
      ],
      "execution_count": null,
      "outputs": [
        {
          "output_type": "execute_result",
          "data": {
            "text/plain": [
              "dict"
            ]
          },
          "metadata": {
            "tags": []
          },
          "execution_count": 87
        }
      ]
    },
    {
      "cell_type": "code",
      "metadata": {
        "id": "U7QDkNRY2diO"
      },
      "source": [
        "import pandas as pd"
      ],
      "execution_count": null,
      "outputs": []
    },
    {
      "cell_type": "code",
      "metadata": {
        "id": "5nBJTE212dqu"
      },
      "source": [
        "df = pd.DataFrame(clientes)"
      ],
      "execution_count": null,
      "outputs": []
    },
    {
      "cell_type": "code",
      "metadata": {
        "id": "oMYUyPHB2d0A",
        "colab": {
          "base_uri": "https://localhost:8080/",
          "height": 168
        },
        "outputId": "daa7c1ec-9245-4089-fd04-d06b1e903ccf"
      },
      "source": [
        "df"
      ],
      "execution_count": null,
      "outputs": [
        {
          "output_type": "execute_result",
          "data": {
            "text/html": [
              "<div>\n",
              "<style scoped>\n",
              "    .dataframe tbody tr th:only-of-type {\n",
              "        vertical-align: middle;\n",
              "    }\n",
              "\n",
              "    .dataframe tbody tr th {\n",
              "        vertical-align: top;\n",
              "    }\n",
              "\n",
              "    .dataframe thead th {\n",
              "        text-align: right;\n",
              "    }\n",
              "</style>\n",
              "<table border=\"1\" class=\"dataframe\">\n",
              "  <thead>\n",
              "    <tr style=\"text-align: right;\">\n",
              "      <th></th>\n",
              "      <th>Charlotte</th>\n",
              "      <th>Claudia</th>\n",
              "      <th>Jonas</th>\n",
              "      <th>Martha</th>\n",
              "      <th>Mikkel</th>\n",
              "      <th>Ulrich</th>\n",
              "    </tr>\n",
              "  </thead>\n",
              "  <tbody>\n",
              "    <tr>\n",
              "      <th>altura</th>\n",
              "      <td>1.56</td>\n",
              "      <td>1.56</td>\n",
              "      <td>1.56</td>\n",
              "      <td>1.98</td>\n",
              "      <td>1.56</td>\n",
              "      <td>1.92</td>\n",
              "    </tr>\n",
              "    <tr>\n",
              "      <th>imc</th>\n",
              "      <td>21</td>\n",
              "      <td>25</td>\n",
              "      <td>21</td>\n",
              "      <td>19</td>\n",
              "      <td>28</td>\n",
              "      <td>22</td>\n",
              "    </tr>\n",
              "    <tr>\n",
              "      <th>peso</th>\n",
              "      <td>52</td>\n",
              "      <td>62</td>\n",
              "      <td>52</td>\n",
              "      <td>76</td>\n",
              "      <td>67</td>\n",
              "      <td>80</td>\n",
              "    </tr>\n",
              "    <tr>\n",
              "      <th>sexo</th>\n",
              "      <td>F</td>\n",
              "      <td>F</td>\n",
              "      <td>M</td>\n",
              "      <td>F</td>\n",
              "      <td>M</td>\n",
              "      <td>M</td>\n",
              "    </tr>\n",
              "  </tbody>\n",
              "</table>\n",
              "</div>"
            ],
            "text/plain": [
              "       Charlotte Claudia Jonas Martha Mikkel Ulrich\n",
              "altura      1.56    1.56  1.56   1.98   1.56   1.92\n",
              "imc           21      25    21     19     28     22\n",
              "peso          52      62    52     76     67     80\n",
              "sexo           F       F     M      F      M      M"
            ]
          },
          "metadata": {
            "tags": []
          },
          "execution_count": 90
        }
      ]
    },
    {
      "cell_type": "code",
      "metadata": {
        "id": "nlsF4E5C2d6b",
        "colab": {
          "base_uri": "https://localhost:8080/"
        },
        "outputId": "e4f8365e-4060-48ae-f576-e57e572025ef"
      },
      "source": [
        "type(df)"
      ],
      "execution_count": null,
      "outputs": [
        {
          "output_type": "execute_result",
          "data": {
            "text/plain": [
              "pandas.core.frame.DataFrame"
            ]
          },
          "metadata": {
            "tags": []
          },
          "execution_count": 91
        }
      ]
    },
    {
      "cell_type": "markdown",
      "metadata": {
        "id": "ziIE21qx3W0-"
      },
      "source": [
        "**Transpose**"
      ]
    },
    {
      "cell_type": "code",
      "metadata": {
        "id": "wQOODJKEdj_t"
      },
      "source": [
        "df = df.transpose()"
      ],
      "execution_count": null,
      "outputs": []
    },
    {
      "cell_type": "code",
      "metadata": {
        "id": "uMG0YqVw7Cc1",
        "colab": {
          "base_uri": "https://localhost:8080/",
          "height": 228
        },
        "outputId": "3d2db554-29f8-4147-86b8-0c77a4af8147"
      },
      "source": [
        "df"
      ],
      "execution_count": null,
      "outputs": [
        {
          "output_type": "execute_result",
          "data": {
            "text/html": [
              "<div>\n",
              "<style scoped>\n",
              "    .dataframe tbody tr th:only-of-type {\n",
              "        vertical-align: middle;\n",
              "    }\n",
              "\n",
              "    .dataframe tbody tr th {\n",
              "        vertical-align: top;\n",
              "    }\n",
              "\n",
              "    .dataframe thead th {\n",
              "        text-align: right;\n",
              "    }\n",
              "</style>\n",
              "<table border=\"1\" class=\"dataframe\">\n",
              "  <thead>\n",
              "    <tr style=\"text-align: right;\">\n",
              "      <th></th>\n",
              "      <th>altura</th>\n",
              "      <th>imc</th>\n",
              "      <th>peso</th>\n",
              "      <th>sexo</th>\n",
              "    </tr>\n",
              "  </thead>\n",
              "  <tbody>\n",
              "    <tr>\n",
              "      <th>Charlotte</th>\n",
              "      <td>1.56</td>\n",
              "      <td>21</td>\n",
              "      <td>52</td>\n",
              "      <td>F</td>\n",
              "    </tr>\n",
              "    <tr>\n",
              "      <th>Claudia</th>\n",
              "      <td>1.56</td>\n",
              "      <td>25</td>\n",
              "      <td>62</td>\n",
              "      <td>F</td>\n",
              "    </tr>\n",
              "    <tr>\n",
              "      <th>Jonas</th>\n",
              "      <td>1.56</td>\n",
              "      <td>21</td>\n",
              "      <td>52</td>\n",
              "      <td>M</td>\n",
              "    </tr>\n",
              "    <tr>\n",
              "      <th>Martha</th>\n",
              "      <td>1.98</td>\n",
              "      <td>19</td>\n",
              "      <td>76</td>\n",
              "      <td>F</td>\n",
              "    </tr>\n",
              "    <tr>\n",
              "      <th>Mikkel</th>\n",
              "      <td>1.56</td>\n",
              "      <td>28</td>\n",
              "      <td>67</td>\n",
              "      <td>M</td>\n",
              "    </tr>\n",
              "    <tr>\n",
              "      <th>Ulrich</th>\n",
              "      <td>1.92</td>\n",
              "      <td>22</td>\n",
              "      <td>80</td>\n",
              "      <td>M</td>\n",
              "    </tr>\n",
              "  </tbody>\n",
              "</table>\n",
              "</div>"
            ],
            "text/plain": [
              "          altura imc peso sexo\n",
              "Charlotte   1.56  21   52    F\n",
              "Claudia     1.56  25   62    F\n",
              "Jonas       1.56  21   52    M\n",
              "Martha      1.98  19   76    F\n",
              "Mikkel      1.56  28   67    M\n",
              "Ulrich      1.92  22   80    M"
            ]
          },
          "metadata": {
            "tags": []
          },
          "execution_count": 94
        }
      ]
    },
    {
      "cell_type": "markdown",
      "metadata": {
        "id": "m7w42Lsl3bS7"
      },
      "source": [
        "Média"
      ]
    },
    {
      "cell_type": "code",
      "metadata": {
        "id": "5I4B9v4boPrk",
        "colab": {
          "base_uri": "https://localhost:8080/"
        },
        "outputId": "62b69b0e-6e47-4008-de21-68ee0c7e6dd8"
      },
      "source": [
        "df['imc'].mean()"
      ],
      "execution_count": null,
      "outputs": [
        {
          "output_type": "execute_result",
          "data": {
            "text/plain": [
              "22.666666666666668"
            ]
          },
          "metadata": {
            "tags": []
          },
          "execution_count": 96
        }
      ]
    },
    {
      "cell_type": "markdown",
      "metadata": {
        "id": "hIuGxUI43dzR"
      },
      "source": [
        "Mediana"
      ]
    },
    {
      "cell_type": "code",
      "metadata": {
        "id": "sIENVGFzoTEW",
        "colab": {
          "base_uri": "https://localhost:8080/"
        },
        "outputId": "49fa1fbe-4c80-4416-b188-442dc91bdf28"
      },
      "source": [
        "df['imc'].median()"
      ],
      "execution_count": null,
      "outputs": [
        {
          "output_type": "execute_result",
          "data": {
            "text/plain": [
              "21.5"
            ]
          },
          "metadata": {
            "tags": []
          },
          "execution_count": 97
        }
      ]
    },
    {
      "cell_type": "markdown",
      "metadata": {
        "id": "UVBBRtEt3f-6"
      },
      "source": [
        "Desvio Padrão"
      ]
    },
    {
      "cell_type": "code",
      "metadata": {
        "id": "ES3ty9G4oUEE",
        "colab": {
          "base_uri": "https://localhost:8080/"
        },
        "outputId": "086ad516-fdeb-4083-8402-e548660761f1"
      },
      "source": [
        "df['imc'].std()"
      ],
      "execution_count": null,
      "outputs": [
        {
          "output_type": "execute_result",
          "data": {
            "text/plain": [
              "3.265986323710904"
            ]
          },
          "metadata": {
            "tags": []
          },
          "execution_count": 98
        }
      ]
    },
    {
      "cell_type": "markdown",
      "metadata": {
        "id": "dAO4RKeh3qBK"
      },
      "source": [
        "Gerando Gráficos"
      ]
    },
    {
      "cell_type": "code",
      "metadata": {
        "id": "3Lgg7wo4Eva1",
        "colab": {
          "base_uri": "https://localhost:8080/",
          "height": 319
        },
        "outputId": "981c0081-1fa4-405e-a4c0-4ee22efc8824"
      },
      "source": [
        "df['imc'].plot(kind='bar')"
      ],
      "execution_count": null,
      "outputs": [
        {
          "output_type": "execute_result",
          "data": {
            "text/plain": [
              "<matplotlib.axes._subplots.AxesSubplot at 0x7f5b5bb7ae10>"
            ]
          },
          "metadata": {
            "tags": []
          },
          "execution_count": 99
        },
        {
          "output_type": "display_data",
          "data": {
            "image/png": "[encoded data removed]",
            "text/plain": [
              "<Figure size 432x288 with 1 Axes>"
            ]
          },
          "metadata": {
            "tags": [],
            "needs_background": "light"
          }
        }
      ]
    },
    {
      "cell_type": "code",
      "metadata": {
        "id": "CqDnRtx4oWwv",
        "colab": {
          "base_uri": "https://localhost:8080/"
        },
        "outputId": "ebd333cf-bcec-4f98-acc2-a8fe29613917"
      },
      "source": [
        "\"Python é muito massa\".split(\"muito\")"
      ],
      "execution_count": null,
      "outputs": [
        {
          "output_type": "execute_result",
          "data": {
            "text/plain": [
              "['Python é ', ' massa']"
            ]
          },
          "metadata": {
            "tags": []
          },
          "execution_count": 102
        }
      ]
    },
    {
      "cell_type": "code",
      "metadata": {
        "id": "7W8ZZclpC89J",
        "colab": {
          "base_uri": "https://localhost:8080/",
          "height": 131
        },
        "outputId": "2f0e74a1-9c44-49e1-839c-f5e63986af1b"
      },
      "source": [
        "45902.split()"
      ],
      "execution_count": null,
      "outputs": [
        {
          "output_type": "error",
          "ename": "SyntaxError",
          "evalue": "ignored",
          "traceback": [
            "\u001b[0;36m  File \u001b[0;32m\"<ipython-input-103-3ee8dcdaf8c9>\"\u001b[0;36m, line \u001b[0;32m1\u001b[0m\n\u001b[0;31m    45902.split()\u001b[0m\n\u001b[0m              ^\u001b[0m\n\u001b[0;31mSyntaxError\u001b[0m\u001b[0;31m:\u001b[0m invalid syntax\n"
          ]
        }
      ]
    },
    {
      "cell_type": "code",
      "metadata": {
        "id": "EL74g-bXEGhM"
      },
      "source": [
        "num = 45902"
      ],
      "execution_count": null,
      "outputs": []
    },
    {
      "cell_type": "code",
      "metadata": {
        "id": "7i-2OzAEFcSo",
        "colab": {
          "base_uri": "https://localhost:8080/"
        },
        "outputId": "633ca2db-1672-40da-e734-bd8792487faf"
      },
      "source": [
        "str(num).split(\"9\")"
      ],
      "execution_count": null,
      "outputs": [
        {
          "output_type": "execute_result",
          "data": {
            "text/plain": [
              "['45', '02']"
            ]
          },
          "metadata": {
            "tags": []
          },
          "execution_count": 105
        }
      ]
    },
    {
      "cell_type": "code",
      "metadata": {
        "id": "DHO0ZYjHF0YF"
      },
      "source": [
        "import numpy as np"
      ],
      "execution_count": null,
      "outputs": []
    },
    {
      "cell_type": "code",
      "metadata": {
        "colab": {
          "base_uri": "https://localhost:8080/"
        },
        "id": "LDe3aDOmgjt7",
        "outputId": "aecb3081-d0ae-4991-daa4-4c197fc4339e"
      },
      "source": [
        "lista_de_imcs.algum_metodo()"
      ],
      "execution_count": null,
      "outputs": [
        {
          "output_type": "execute_result",
          "data": {
            "text/plain": [
              "[21, 25, 21, 19, 28, 22]"
            ]
          },
          "metadata": {
            "tags": []
          },
          "execution_count": 108
        }
      ]
    },
    {
      "cell_type": "code",
      "metadata": {
        "colab": {
          "base_uri": "https://localhost:8080/"
        },
        "id": "riFoSzvJgeS5",
        "outputId": "55ba1358-0185-4e6c-aae2-179ec67915a7"
      },
      "source": [
        "np.average(lista_de_imcs)"
      ],
      "execution_count": null,
      "outputs": [
        {
          "output_type": "execute_result",
          "data": {
            "text/plain": [
              "22.666666666666668"
            ]
          },
          "metadata": {
            "tags": []
          },
          "execution_count": 109
        }
      ]
    },
    {
      "cell_type": "code",
      "metadata": {
        "id": "taIY1fEZgh4g"
      },
      "source": [
        ""
      ],
      "execution_count": null,
      "outputs": []
    }
  ]
}
