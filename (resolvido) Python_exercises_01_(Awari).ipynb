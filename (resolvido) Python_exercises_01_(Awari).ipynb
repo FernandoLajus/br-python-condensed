{
  "nbformat": 4,
  "nbformat_minor": 0,
  "metadata": {
    "colab": {
      "name": "Cópia de Python_exercises_01 (Awari).ipynb",
      "provenance": [],
      "collapsed_sections": [],
      "include_colab_link": true
    },
    "kernelspec": {
      "name": "python3",
      "display_name": "Python 3"
    }
  },
  "cells": [
    {
      "cell_type": "markdown",
      "metadata": {
        "id": "view-in-github",
        "colab_type": "text"
      },
      "source": [
        "<a href=\"https://colab.research.google.com/github/FernandoLajus/br-python-condensed/blob/main/(resolvido)%20Python_exercises_01_(Awari).ipynb\" target=\"_parent\"><img src=\"https://colab.research.google.com/assets/colab-badge.svg\" alt=\"Open In Colab\"/></a>"
      ]
    },
    {
      "cell_type": "markdown",
      "metadata": {
        "id": "8YqaSZgXYJ5g"
      },
      "source": [
        "![](https://i.imgur.com/YX6UATs.png)\n"
      ]
    },
    {
      "cell_type": "markdown",
      "metadata": {
        "id": "hhUVzDipaGb9"
      },
      "source": [
        "### **Exercícios de Python - 1** \n",
        "\n",
        "\n",
        "\n"
      ]
    },
    {
      "cell_type": "markdown",
      "metadata": {
        "id": "qMGp-h8OaGqr"
      },
      "source": [
        "1 - Faça um programa, com uma função que necessite de três argumentos, e que forneça a soma desses três argumentos."
      ]
    },
    {
      "cell_type": "code",
      "metadata": {
        "id": "kTg-D89NdCld",
        "colab": {
          "base_uri": "https://localhost:8080/"
        },
        "outputId": "b7d34a36-342d-4de0-9226-6bbe83f73c73"
      },
      "source": [
        "a=23\n",
        "b=62\n",
        "z=10\n",
        "d=3\n",
        "\n",
        "teste_1=(a+b+z**d)\n",
        "\n",
        "teste_1"
      ],
      "execution_count": null,
      "outputs": [
        {
          "output_type": "execute_result",
          "data": {
            "text/plain": [
              "1085"
            ]
          },
          "metadata": {
            "tags": []
          },
          "execution_count": 64
        }
      ]
    },
    {
      "cell_type": "markdown",
      "metadata": {
        "id": "4xDpME9fT-k5"
      },
      "source": [
        "**Criei três objetos com diferentes valores. Defini \"teste_1\" como o resultado de uma operação envolvendo os três objetos criados. Pedi para o sistema me mostrar o resultado dessa operação, chamada de \"teste_1\"**"
      ]
    },
    {
      "cell_type": "code",
      "metadata": {
        "id": "IiedLOwvWw6z"
      },
      "source": [
        "teste_2= 50+65+12/2"
      ],
      "execution_count": null,
      "outputs": []
    },
    {
      "cell_type": "code",
      "metadata": {
        "colab": {
          "base_uri": "https://localhost:8080/"
        },
        "id": "pQDZTtUPXKap",
        "outputId": "faa8f2d5-f3fc-4851-b1fe-ded91741faa1"
      },
      "source": [
        "teste_1+teste_2\n",
        "print(teste_1+teste_2)"
      ],
      "execution_count": null,
      "outputs": [
        {
          "output_type": "stream",
          "text": [
            "1206.0\n"
          ],
          "name": "stdout"
        }
      ]
    },
    {
      "cell_type": "markdown",
      "metadata": {
        "id": "KdLXZftIaG60"
      },
      "source": [
        "2 - Faça um Programa que peça a temperatura em graus Celsius, transforme e mostre em graus Fahrenheit. \\\n",
        "*Dica: procure a fórmula para essa conversão na internet*"
      ]
    },
    {
      "cell_type": "code",
      "metadata": {
        "colab": {
          "base_uri": "https://localhost:8080/"
        },
        "id": "_KZ1k7Icezqu",
        "outputId": "a21e7f3f-a23c-4f0a-aa58-d6df08c66ca3"
      },
      "source": [
        "##Criar input que recebe temp em Celsius. Depois criar nova objeto que opera a tranformação para Fº\n",
        "\n",
        "temperatura = input (\"Qual a temperatura atual (em Cº):\")\n",
        "temp_f= float (temperatura)*1.8+32\n",
        "temp_f\n"
      ],
      "execution_count": 4,
      "outputs": [
        {
          "output_type": "stream",
          "text": [
            "Qual a temperatura atual (em Cº):18\n"
          ],
          "name": "stdout"
        },
        {
          "output_type": "execute_result",
          "data": {
            "text/plain": [
              "64.4"
            ]
          },
          "metadata": {
            "tags": []
          },
          "execution_count": 4
        }
      ]
    },
    {
      "cell_type": "markdown",
      "metadata": {
        "id": "4OETBVgmaGzX"
      },
      "source": [
        "3 - Faça um Programa que peça um número inteiro e determine se ele é par ou impar. Dica: utilize o operador módulo (resto da divisão)."
      ]
    },
    {
      "cell_type": "code",
      "metadata": {
        "colab": {
          "base_uri": "https://localhost:8080/"
        },
        "id": "887sgyUqv87K",
        "outputId": "3135e0e9-73be-42b0-bd57-b48237b1df35"
      },
      "source": [
        "Número_1 = input (\"Digite um número inteiro:\")\n",
        "Resultado_N1 = int(Número_1)%2\n",
        "Resultado_N1 "
      ],
      "execution_count": null,
      "outputs": [
        {
          "output_type": "stream",
          "text": [
            "Digite um número inteiro:10\n"
          ],
          "name": "stdout"
        },
        {
          "output_type": "execute_result",
          "data": {
            "text/plain": [
              "0"
            ]
          },
          "metadata": {
            "tags": []
          },
          "execution_count": 91
        }
      ]
    },
    {
      "cell_type": "markdown",
      "metadata": {
        "id": "xs2WybnvxILE"
      },
      "source": [
        "**Por que essa duas últimas funções não funcionam?**\n",
        "  "
      ]
    },
    {
      "cell_type": "code",
      "metadata": {
        "id": "WbzCimFZVSr1",
        "colab": {
          "base_uri": "https://localhost:8080/",
          "height": 129
        },
        "outputId": "eee61b29-d9ad-4c09-ee7a-03dd85d0358d"
      },
      "source": [
        "Número = int (input(\"Digite um número inteiro:\"))\n",
        "Resultado_N = (Número)%2\n",
        "if  (Resultado_N)==0:\n",
        "  print(\"Este é um número par\")\n",
        "else\n",
        "print(\"Este é um número ímpar\")"
      ],
      "execution_count": null,
      "outputs": [
        {
          "output_type": "error",
          "ename": "SyntaxError",
          "evalue": "ignored",
          "traceback": [
            "\u001b[0;36m  File \u001b[0;32m\"<ipython-input-85-a342ed5b5d28>\"\u001b[0;36m, line \u001b[0;32m5\u001b[0m\n\u001b[0;31m    else\u001b[0m\n\u001b[0m        ^\u001b[0m\n\u001b[0;31mSyntaxError\u001b[0m\u001b[0;31m:\u001b[0m invalid syntax\n"
          ]
        }
      ]
    },
    {
      "cell_type": "code",
      "metadata": {
        "colab": {
          "base_uri": "https://localhost:8080/",
          "height": 129
        },
        "id": "UEsbWtLXgpdm",
        "outputId": "e23d87e4-5a6c-4fd6-e788-4d3d0975a2be"
      },
      "source": [
        "n1 = int(input(\"Informe um número: \"))\n",
        "if n1%2==0:\n",
        "  print(\"Esse número é par\")\n",
        "else\n",
        "  print(\"Esse número é impar\")"
      ],
      "execution_count": null,
      "outputs": [
        {
          "output_type": "error",
          "ename": "SyntaxError",
          "evalue": "ignored",
          "traceback": [
            "\u001b[0;36m  File \u001b[0;32m\"<ipython-input-86-636e99da595e>\"\u001b[0;36m, line \u001b[0;32m4\u001b[0m\n\u001b[0;31m    else\u001b[0m\n\u001b[0m        ^\u001b[0m\n\u001b[0;31mSyntaxError\u001b[0m\u001b[0;31m:\u001b[0m invalid syntax\n"
          ]
        }
      ]
    },
    {
      "cell_type": "markdown",
      "metadata": {
        "id": "7zPJ8sgPaGw0"
      },
      "source": [
        "4 - Faça um programa que peça o tamanho de um arquivo para download (em MB) e a velocidade de um link de Internet (em Mbps), calcule e informe o tempo aproximado de download do arquivo usando este link (em minutos)."
      ]
    },
    {
      "cell_type": "code",
      "metadata": {
        "id": "l4qtSxU7XquB",
        "colab": {
          "base_uri": "https://localhost:8080/"
        },
        "outputId": "38d3522d-1ede-4eae-9f50-715b5422819b"
      },
      "source": [
        "Tamanho_M = input (\"Qual o tamanho em MB do arquivo?\")\n",
        "Velocidade_I= input (\"Qual a velocidade de download em MB/S?\")\n",
        "Tempo_D = float (Tamanho_M)/float (Velocidade_I)\n",
        "Tempo_D"
      ],
      "execution_count": null,
      "outputs": [
        {
          "output_type": "stream",
          "text": [
            "Qual o tamanho em MB do arquivo?67\n",
            "Qual a velocidade de download em MB/S?2.5\n"
          ],
          "name": "stdout"
        },
        {
          "output_type": "execute_result",
          "data": {
            "text/plain": [
              "26.8"
            ]
          },
          "metadata": {
            "tags": []
          },
          "execution_count": 28
        }
      ]
    },
    {
      "cell_type": "markdown",
      "metadata": {
        "id": "0tkhm6EUaG1u"
      },
      "source": [
        "5 - Faça um programa para a leitura de duas notas parciais de um aluno. O programa deve calcular a média alcançada por aluno e apresentar:\n",
        "- A mensagem \"Aprovado\", se a média alcançada for maior ou igual a sete;\n",
        "- A mensagem \"Reprovado\", se a média for menor do que sete;\n",
        "- A mensagem \"Aprovado com Distinção\", se a média for igual a dez."
      ]
    },
    {
      "cell_type": "code",
      "metadata": {
        "colab": {
          "base_uri": "https://localhost:8080/"
        },
        "id": "9iJsIPO-pr_T",
        "outputId": "d15ec5f2-d33d-460d-c88a-49599b350421"
      },
      "source": [
        "#Função média\n",
        "def media(nota1, nota2):\n",
        "  notafinal = (nota1+nota2)/2\n",
        "  return notafinal\n",
        "\n",
        "#Função \n",
        "def statusAluno(nota):\n",
        "  if nota < 7:\n",
        "     print(\"Reprovado\")\n",
        "  elif nota >= 7 and nota < 10:\n",
        "    print(\"Aprovado\")\n",
        "  else:\n",
        "    print(\"Aprovado com distinção\")\n",
        "\n",
        "\n",
        "nota1 = int(input(\"Informe a primeira nota: \"))\n",
        "nota2 = int(input(\"Informe a segunda nota: \"))\n",
        "\n",
        "if nota1 > 10 or nota2 > 10:\n",
        "  print(\"********************\")\n",
        "  print(\"Você digitou alguma nota errada, por favor, vamos começar novamente?\")\n",
        "  print(\"********************\")\n",
        "  nota1 = int(input(\"Informe a primeira nota: \"))\n",
        "  nota2 = int(input(\"Informe a segunda nota: \"))\n",
        "  statusAluno(media(nota1,nota2))\n",
        "else:\n",
        "  statusAluno(media(nota1,nota2))\n"
      ],
      "execution_count": null,
      "outputs": [
        {
          "output_type": "stream",
          "text": [
            "Informe a primeira nota: 10\n",
            "Informe a segunda nota: 9\n",
            "Aprovado\n"
          ],
          "name": "stdout"
        }
      ]
    },
    {
      "cell_type": "markdown",
      "metadata": {
        "id": "Lm1tOKThnU42"
      },
      "source": [
        "Exercícios adaptados de Python Brasil"
      ]
    }
  ]
}