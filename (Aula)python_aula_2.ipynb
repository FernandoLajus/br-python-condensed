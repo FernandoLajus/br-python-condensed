{
  "nbformat": 4,
  "nbformat_minor": 0,
  "metadata": {
    "colab": {
      "name": "Cópia de python-aula-2.ipynb",
      "provenance": [],
      "collapsed_sections": [],
      "include_colab_link": true
    },
    "kernelspec": {
      "name": "python3",
      "display_name": "Python 3"
    }
  },
  "cells": [
    {
      "cell_type": "markdown",
      "metadata": {
        "id": "view-in-github",
        "colab_type": "text"
      },
      "source": [
        "<a href=\"https://colab.research.google.com/github/FernandoLajus/br-python-condensed/blob/main/(Aula)python_aula_2.ipynb\" target=\"_parent\"><img src=\"https://colab.research.google.com/assets/colab-badge.svg\" alt=\"Open In Colab\"/></a>"
      ]
    },
    {
      "cell_type": "markdown",
      "metadata": {
        "id": "Si5ub8Y0pUZm"
      },
      "source": [
        "<img src=\"https://i.imgur.com/JsMvGnP.pngwidth\" height=\"30\">  \n",
        "<p style=\"color: #2e6c80; text-align: center;\"><strong>Aula complementar de Python - Fazendo uma pesquisa numa acedemia\n",
        "</strong></p>"
      ]
    },
    {
      "cell_type": "markdown",
      "metadata": {
        "id": "pCB3QepchLAp"
      },
      "source": [
        "**Exercício 2:** Adicione na função **calcula_imc** a variável (nome) que pede ao usuário a inclusão de seu nome para, posteriormente, constar no **return** da função.\n"
      ]
    },
    {
      "cell_type": "code",
      "metadata": {
        "id": "-Q5ATnCmhFmc"
      },
      "source": [
        "def calcula_imc():\n",
        "  altura = input(\"Qual é sua altura em metros? (utilize pontos. Ex.: 1.76\")\n",
        "  peso = input(\"Qual é seu peso em quilos? (utilize pontos. Ex.: 99.7\")\n",
        "  imc = float(peso)/float(altura)**2\n",
        "  imc_arredondado = round(imc,2)\n",
        "  print(f\"Olá, seu IMC é de {imc_arredondado}\")"
      ],
      "execution_count": null,
      "outputs": []
    },
    {
      "cell_type": "code",
      "metadata": {
        "id": "T-ZVbMBBhGX-"
      },
      "source": [
        ""
      ],
      "execution_count": null,
      "outputs": []
    },
    {
      "cell_type": "markdown",
      "metadata": {
        "id": "SJcSNU0EIDkI"
      },
      "source": [
        "**Tipos de dados - Booleans**"
      ]
    },
    {
      "cell_type": "code",
      "metadata": {
        "id": "iKpAMWcIHRIJ"
      },
      "source": [
        "10 < 20"
      ],
      "execution_count": null,
      "outputs": []
    },
    {
      "cell_type": "code",
      "metadata": {
        "id": "JKHlO_38MkUv"
      },
      "source": [
        ""
      ],
      "execution_count": null,
      "outputs": []
    },
    {
      "cell_type": "markdown",
      "metadata": {
        "id": "C5qhtX4jNqtO"
      },
      "source": [
        "**If, Else, Elif**\n"
      ]
    },
    {
      "cell_type": "code",
      "metadata": {
        "id": "1cZV8jIIIxi5"
      },
      "source": [
        ""
      ],
      "execution_count": null,
      "outputs": []
    },
    {
      "cell_type": "code",
      "metadata": {
        "id": "vl8HDu9422wV"
      },
      "source": [
        ""
      ],
      "execution_count": null,
      "outputs": []
    },
    {
      "cell_type": "markdown",
      "metadata": {
        "id": "Jiosiu_yIz0M"
      },
      "source": [
        "**Exercício 1:** crie uma função que retorne uma mensagem que informa se os dois argumentos são iguais ou diferentes.\n",
        "\n",
        "\n"
      ]
    },
    {
      "cell_type": "code",
      "metadata": {
        "id": "wH5C7xThJ8tx"
      },
      "source": [
        ""
      ],
      "execution_count": null,
      "outputs": []
    },
    {
      "cell_type": "code",
      "metadata": {
        "id": "OrENh2GcZJka"
      },
      "source": [
        ""
      ],
      "execution_count": null,
      "outputs": []
    },
    {
      "cell_type": "markdown",
      "metadata": {
        "id": "R2OtP3KGKTLQ"
      },
      "source": [
        "Mais de uma condição (usar parentes):"
      ]
    },
    {
      "cell_type": "code",
      "metadata": {
        "id": "9cLcI9gdKR9q"
      },
      "source": [
        ""
      ],
      "execution_count": null,
      "outputs": []
    },
    {
      "cell_type": "markdown",
      "metadata": {
        "id": "xiRgSER1ZO-H"
      },
      "source": [
        "Uma ou outra condição:\n"
      ]
    },
    {
      "cell_type": "code",
      "metadata": {
        "id": "8tC8LwTbg2Gh"
      },
      "source": [
        ""
      ],
      "execution_count": null,
      "outputs": []
    },
    {
      "cell_type": "markdown",
      "metadata": {
        "id": "X7J1ZPSag3BZ"
      },
      "source": [
        "Exercício - Adicione um input que peça o nome do usuário e um código que retornará uma mensagem de aviso caso a pessoa esteja com o IMC acima de 25.\n",
        "Retorne isso no format() da função."
      ]
    },
    {
      "cell_type": "code",
      "metadata": {
        "id": "zAnJ1hT5ZQLB"
      },
      "source": [
        "def clacula_imc():\n",
        "  nome = input('Qual o seu nome?')\n",
        "  peso =  input('Qual o seu peso em quilos (utilize ponto, ex: 52.4)')\n",
        "  altura = input('Qual a sua altura em metros (utilize ponto, ex: 1.74)')\n",
        "  imc = float(peso)/float(altura)**2\n",
        "  imc_arredondado = round(imc,2)\n",
        "  return imc_arredondado"
      ],
      "execution_count": null,
      "outputs": []
    },
    {
      "cell_type": "markdown",
      "metadata": {
        "id": "PhIEZVitGjkJ"
      },
      "source": [
        "Supondo que você seja o dono de uma academia de ginástica e queira fazer uma pesquisa com seus clientes para poder indicar treinamentos mais adequeados, você precisaria coletar informações, organizá-las e criar uma saída que envie mensagens ou e-mails para os alunos com a informação já processada."
      ]
    },
    {
      "cell_type": "markdown",
      "metadata": {
        "id": "V2iGqkTyzI7q"
      },
      "source": [
        "**Listas**"
      ]
    },
    {
      "cell_type": "code",
      "metadata": {
        "id": "4-VoEJIop8Ea"
      },
      "source": [
        ""
      ],
      "execution_count": null,
      "outputs": []
    },
    {
      "cell_type": "code",
      "metadata": {
        "id": "iZK346jz5eIk"
      },
      "source": [
        ""
      ],
      "execution_count": null,
      "outputs": []
    },
    {
      "cell_type": "markdown",
      "metadata": {
        "id": "Dqn-iPU4pzzQ"
      },
      "source": [
        "**Chamando itens em uma lista**"
      ]
    },
    {
      "cell_type": "code",
      "metadata": {
        "id": "qOgzYVMK1h-l"
      },
      "source": [
        ""
      ],
      "execution_count": null,
      "outputs": []
    },
    {
      "cell_type": "markdown",
      "metadata": {
        "id": "Q1nJQ-DDKyyj"
      },
      "source": [
        "**Indexando pelo negativo**"
      ]
    },
    {
      "cell_type": "code",
      "metadata": {
        "id": "OLpOVPsqruj0"
      },
      "source": [
        ""
      ],
      "execution_count": null,
      "outputs": []
    },
    {
      "cell_type": "markdown",
      "metadata": {
        "id": "CLoYbZV6weTy"
      },
      "source": [
        "**Modificando um item**"
      ]
    },
    {
      "cell_type": "code",
      "metadata": {
        "id": "b9TlB2y91TnB"
      },
      "source": [
        ""
      ],
      "execution_count": null,
      "outputs": []
    },
    {
      "cell_type": "markdown",
      "metadata": {
        "id": "ogTkO2iLLDV-"
      },
      "source": [
        "**append()**"
      ]
    },
    {
      "cell_type": "code",
      "metadata": {
        "id": "C_TMe9YvLCCg"
      },
      "source": [
        ""
      ],
      "execution_count": null,
      "outputs": []
    },
    {
      "cell_type": "code",
      "metadata": {
        "id": "2jYa225n6uTZ"
      },
      "source": [
        ""
      ],
      "execution_count": null,
      "outputs": []
    },
    {
      "cell_type": "markdown",
      "metadata": {
        "id": "-Vzti6CtsWzJ"
      },
      "source": [
        "**Uma lista dentro de uma lista? -** ***Nested List***"
      ]
    },
    {
      "cell_type": "code",
      "metadata": {
        "id": "0FEE99Nash1B"
      },
      "source": [
        ""
      ],
      "execution_count": null,
      "outputs": []
    },
    {
      "cell_type": "code",
      "metadata": {
        "id": "zE2PLMnpuF-O"
      },
      "source": [
        ""
      ],
      "execution_count": null,
      "outputs": []
    },
    {
      "cell_type": "code",
      "metadata": {
        "id": "Me942Vxp8cq-"
      },
      "source": [
        ""
      ],
      "execution_count": null,
      "outputs": []
    },
    {
      "cell_type": "markdown",
      "metadata": {
        "id": "foMXSj9iLMZB"
      },
      "source": [
        "**Encontrando item na lista dentro da lista**"
      ]
    },
    {
      "cell_type": "code",
      "metadata": {
        "id": "e9ohEzc82qvj"
      },
      "source": [
        ""
      ],
      "execution_count": null,
      "outputs": []
    },
    {
      "cell_type": "markdown",
      "metadata": {
        "id": "EuDOZEWePVUD"
      },
      "source": [
        "**Exercício 2 - Da lista dada:**\n",
        "- Substitua o segundo item por \"Casa\"\n",
        "- adicione o item 45.9 ao fim da lista"
      ]
    },
    {
      "cell_type": "code",
      "metadata": {
        "id": "R3_YHRQAPq2h"
      },
      "source": [
        ""
      ],
      "execution_count": null,
      "outputs": []
    },
    {
      "cell_type": "code",
      "metadata": {
        "id": "tqKACZRt-BjP"
      },
      "source": [
        ""
      ],
      "execution_count": null,
      "outputs": []
    },
    {
      "cell_type": "markdown",
      "metadata": {
        "id": "ZXG7qQ0wIGkH"
      },
      "source": [
        "**ITERANDO** \\\n",
        "**Loop** ***For***"
      ]
    },
    {
      "cell_type": "code",
      "metadata": {
        "id": "DEF15-97Nq-y"
      },
      "source": [
        ""
      ],
      "execution_count": null,
      "outputs": []
    },
    {
      "cell_type": "markdown",
      "metadata": {
        "id": "SIRuvotgNvxx"
      },
      "source": [
        "**Exercício 3: Loop com format** \\\n",
        "Faça um loop sobre a lista que você criou utilizando a função format para dizer que cada um dos itens está na lista: \\\n",
        "Ex: 4 está na lista..."
      ]
    },
    {
      "cell_type": "code",
      "metadata": {
        "id": "Lg9zuSlFqtsy"
      },
      "source": [
        ""
      ],
      "execution_count": null,
      "outputs": []
    },
    {
      "cell_type": "markdown",
      "metadata": {
        "id": "gMRqgEIQJGTg"
      },
      "source": [
        "**Exemplo prático:** \\\n",
        "Coletando os dados da academia"
      ]
    },
    {
      "cell_type": "code",
      "metadata": {
        "id": "B-xhOqtoIxE3"
      },
      "source": [
        ""
      ],
      "execution_count": null,
      "outputs": []
    },
    {
      "cell_type": "code",
      "metadata": {
        "id": "95JJKn4qpC4j"
      },
      "source": [
        "minha_lista = [['Ulrich', 'M', 80, 1.92],['Claudia','F',62,1.56],\n",
        "               ['Mikkel','M',67,1.56],['Jonas','M',52,1.56],\n",
        "               ['Charlotte','F',52,1.56],['Martha','F',76,1.98]]"
      ],
      "execution_count": null,
      "outputs": []
    },
    {
      "cell_type": "code",
      "metadata": {
        "id": "ywqxhomFsXFD"
      },
      "source": [
        ""
      ],
      "execution_count": null,
      "outputs": []
    },
    {
      "cell_type": "markdown",
      "metadata": {
        "id": "peY1aiw0Oxd7"
      },
      "source": [
        "**Iterando sobre nossa lista**"
      ]
    },
    {
      "cell_type": "code",
      "metadata": {
        "id": "rHZNhA7mOwlc"
      },
      "source": [
        ""
      ],
      "execution_count": null,
      "outputs": []
    },
    {
      "cell_type": "markdown",
      "metadata": {
        "id": "JjjqcoPyJNE6"
      },
      "source": [
        "**Operações dentro das listas**"
      ]
    },
    {
      "cell_type": "code",
      "metadata": {
        "id": "nSjNdFJc-UvQ"
      },
      "source": [
        ""
      ],
      "execution_count": null,
      "outputs": []
    },
    {
      "cell_type": "code",
      "metadata": {
        "id": "Axxwlhib-7aS"
      },
      "source": [
        ""
      ],
      "execution_count": null,
      "outputs": []
    },
    {
      "cell_type": "markdown",
      "metadata": {
        "id": "eHm0Bvsp3oT9"
      },
      "source": [
        "**E se eu quiser saber a altura da Charlotte?** \n",
        "\n"
      ]
    },
    {
      "cell_type": "code",
      "metadata": {
        "id": "JOlX3KLL3mvI"
      },
      "source": [
        ""
      ],
      "execution_count": null,
      "outputs": []
    },
    {
      "cell_type": "markdown",
      "metadata": {
        "id": "UW9uZONnyuPB"
      },
      "source": [
        "<img src=\"https://i0.wp.com/reconstruindohistorias.com/wp-content/uploads/m%C3%A3e-assustada.jpg?ssl=1\" width=\"170\"/>"
      ]
    },
    {
      "cell_type": "markdown",
      "metadata": {
        "id": "jym_u5UGKBtv"
      },
      "source": [
        "**Dicionários**"
      ]
    },
    {
      "cell_type": "code",
      "metadata": {
        "id": "Ygu6bBvKKAYA"
      },
      "source": [
        ""
      ],
      "execution_count": null,
      "outputs": []
    },
    {
      "cell_type": "code",
      "metadata": {
        "id": "OCiUcaClKeQi"
      },
      "source": [
        ""
      ],
      "execution_count": null,
      "outputs": []
    },
    {
      "cell_type": "markdown",
      "metadata": {
        "id": "2UkfwOo5lV9z"
      },
      "source": [
        "**Dicionários dentro de dicionários**"
      ]
    },
    {
      "cell_type": "code",
      "metadata": {
        "id": "kbdKZi6_KiNK"
      },
      "source": [
        ""
      ],
      "execution_count": null,
      "outputs": []
    },
    {
      "cell_type": "code",
      "metadata": {
        "id": "3c9tmUtbLEe9"
      },
      "source": [
        ""
      ],
      "execution_count": null,
      "outputs": []
    },
    {
      "cell_type": "markdown",
      "metadata": {
        "id": "wXDtwLtWlbuM"
      },
      "source": [
        "**Adicionando itens a um dicionário**"
      ]
    },
    {
      "cell_type": "code",
      "metadata": {
        "id": "u5n7BlSMLLB9"
      },
      "source": [
        ""
      ],
      "execution_count": null,
      "outputs": []
    },
    {
      "cell_type": "code",
      "metadata": {
        "id": "y3nSk3DODGgz"
      },
      "source": [
        ""
      ],
      "execution_count": null,
      "outputs": []
    },
    {
      "cell_type": "code",
      "metadata": {
        "id": "cVWkFXSMF9cZ"
      },
      "source": [
        ""
      ],
      "execution_count": null,
      "outputs": []
    },
    {
      "cell_type": "code",
      "metadata": {
        "id": "4944KjzWk1CY"
      },
      "source": [
        ""
      ],
      "execution_count": null,
      "outputs": []
    },
    {
      "cell_type": "markdown",
      "metadata": {
        "id": "mll3_4A-KRZC"
      },
      "source": [
        "**Exercício 4:** \\\n",
        "Adicione mais um membro ao dicionário com peso e altura e atualize o dicionário com a altura da Martha"
      ]
    },
    {
      "cell_type": "code",
      "metadata": {
        "id": "ejGHJdqjK5kF"
      },
      "source": [
        ""
      ],
      "execution_count": null,
      "outputs": []
    },
    {
      "cell_type": "code",
      "metadata": {
        "id": "aj5zoNolLW0i"
      },
      "source": [
        ""
      ],
      "execution_count": null,
      "outputs": []
    },
    {
      "cell_type": "code",
      "metadata": {
        "id": "1kbVbLdfMZP9"
      },
      "source": [
        ""
      ],
      "execution_count": null,
      "outputs": []
    },
    {
      "cell_type": "markdown",
      "metadata": {
        "id": "6sL0OQRPllF9"
      },
      "source": [
        "**O Grande Loop** \\\n",
        "Da lista ao dicionário"
      ]
    },
    {
      "cell_type": "code",
      "metadata": {
        "id": "7qi38zcWGcRF"
      },
      "source": [
        ""
      ],
      "execution_count": null,
      "outputs": []
    },
    {
      "cell_type": "code",
      "metadata": {
        "id": "eqUOXmS6GziW"
      },
      "source": [
        ""
      ],
      "execution_count": null,
      "outputs": []
    },
    {
      "cell_type": "code",
      "metadata": {
        "id": "id8_k__xFaPj"
      },
      "source": [
        ""
      ],
      "execution_count": null,
      "outputs": []
    },
    {
      "cell_type": "code",
      "metadata": {
        "id": "nscg_ZpMGMB9"
      },
      "source": [
        ""
      ],
      "execution_count": null,
      "outputs": []
    },
    {
      "cell_type": "markdown",
      "metadata": {
        "id": "5ISzRuZq9Qm-"
      },
      "source": [
        "**Loop + Condicionais**"
      ]
    },
    {
      "cell_type": "code",
      "metadata": {
        "id": "wa1h7AVfGr1I"
      },
      "source": [
        ""
      ],
      "execution_count": null,
      "outputs": []
    },
    {
      "cell_type": "code",
      "metadata": {
        "id": "sLPdwYs1rK8g"
      },
      "source": [
        ""
      ],
      "execution_count": null,
      "outputs": []
    },
    {
      "cell_type": "markdown",
      "metadata": {
        "id": "t2t_ZKNOxm7a"
      },
      "source": [
        "**Vendo as chaves do dicionário**"
      ]
    },
    {
      "cell_type": "code",
      "metadata": {
        "id": "e3AQs3SsuSfS"
      },
      "source": [
        ""
      ],
      "execution_count": null,
      "outputs": []
    },
    {
      "cell_type": "markdown",
      "metadata": {
        "id": "6bRRXs1rnTRX"
      },
      "source": [
        "**Criando a mensagem padrão**"
      ]
    },
    {
      "cell_type": "code",
      "metadata": {
        "id": "VNbNU4o-mc9R"
      },
      "source": [
        ""
      ],
      "execution_count": null,
      "outputs": []
    },
    {
      "cell_type": "markdown",
      "metadata": {
        "id": "iO3doKwea4Yn"
      },
      "source": [
        "**Exercício 5:**\n",
        "Cire uma mensagem padrão que agora que varie de acordo com os pronomes (feminino e masculino) e sobre o IMC (abaixo ou acima de 25). \\\n",
        "\n",
        "Ex:\\\n",
        "Olá Claudia. Gostaríamos de informar que seu IMC é 25.3! Esteja preparad**a** para novos treinos!\\\n",
        "Olá João. Gostaríamos de informar que seu IMC é 23! Seus treinos continuarão os mesmos!\n"
      ]
    },
    {
      "cell_type": "code",
      "metadata": {
        "id": "gma3ft8JnZQ3"
      },
      "source": [
        "\n"
      ],
      "execution_count": null,
      "outputs": []
    },
    {
      "cell_type": "markdown",
      "metadata": {
        "id": "WV2Y-d9S99x_"
      },
      "source": [
        "**Exercício**"
      ]
    },
    {
      "cell_type": "markdown",
      "metadata": {
        "id": "AZsuEB59-I8j"
      },
      "source": [
        "Abaixo temos uma lista de alunos de uma escola de música. Os elementos da lista estão na seguinte ordem: Nome, Instrumento, Nome do professor e dia da aula.\n",
        "Por uma motivo de força maior, todas as aulas da semana seguinte à que você está terão que ser canceladas. Sua tarefa consistirá em criar uma mensagem padronizada automaticamente que avise ao aluno que ele(a) não terá aula na próxima semana, como no exemplo: \"Olá Paulo, sua aula de bateria da próxima quarta-feira com o professor Thiago terá de ser cancelada por motivo de força maior. Lamentamos o ocorrido e entraremos em contato em breve.\""
      ]
    },
    {
      "cell_type": "code",
      "metadata": {
        "id": "HS2g4AU3-Hwr"
      },
      "source": [
        "lista_de_alunos = [['João','bateria','Paulo','quarta-feira'],['Maria','guitarra','Rubens','quinta-feira'],\n",
        "                   ['Carla','sanfona','Roger','segunda-feira'],['Raul','contrabaixo','Paula','terça-feira'],\n",
        "                   ['Carlos','bateira','Paulo','quarta-feira'],['Pedro','piano','Roberta','terça-feira'],\n",
        "                   ['Joana','bateria','José','quarta-feira'],['Fernanda','guitarra','Rubens','quinta-feira'],\n",
        "                   ['Tamara','sanfona','Roger','terça-feira'],['Tito','contrabaixo','Ronaldo','terça-feira'],\n",
        "                   ['Joseph','bateira','Paulo','quinta-feira'],['Robert','piano','Fernando','terça-feira']]"
      ],
      "execution_count": null,
      "outputs": []
    },
    {
      "cell_type": "code",
      "metadata": {
        "id": "XLkCCV-w-AMz"
      },
      "source": [
        ""
      ],
      "execution_count": null,
      "outputs": []
    },
    {
      "cell_type": "code",
      "metadata": {
        "id": "EmjPVfl8F62b"
      },
      "source": [
        ""
      ],
      "execution_count": null,
      "outputs": []
    },
    {
      "cell_type": "code",
      "metadata": {
        "id": "eGzC1gzs7a0a"
      },
      "source": [
        ""
      ],
      "execution_count": null,
      "outputs": []
    },
    {
      "cell_type": "code",
      "metadata": {
        "id": "b6TXw2qdGBOJ"
      },
      "source": [
        ""
      ],
      "execution_count": null,
      "outputs": []
    },
    {
      "cell_type": "code",
      "metadata": {
        "id": "Qx4LajBwGUeU"
      },
      "source": [
        ""
      ],
      "execution_count": null,
      "outputs": []
    }
  ]
}